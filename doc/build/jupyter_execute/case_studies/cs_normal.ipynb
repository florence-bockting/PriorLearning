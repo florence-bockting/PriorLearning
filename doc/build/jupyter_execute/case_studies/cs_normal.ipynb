{
 "cells": [
  {
   "cell_type": "code",
   "execution_count": 1,
   "metadata": {},
   "outputs": [
    {
     "name": "stderr",
     "output_type": "stream",
     "text": [
      "C:\\Users\\flobo\\anaconda3\\envs\\make-my-prior\\Lib\\site-packages\\bayesflow\\trainers.py:27: TqdmWarning: IProgress not found. Please update jupyter and ipywidgets. See https://ipywidgets.readthedocs.io/en/stable/user_install.html\n",
      "  from tqdm.autonotebook import tqdm\n"
     ]
    }
   ],
   "source": [
    "import patsy as pa\n",
    "import tensorflow as tf\n",
    "import tensorflow_probability as tfp\n",
    "import numpy as np\n",
    "import pandas as pd\n",
    "\n",
    "tfd = tfp.distributions\n",
    "\n",
    "from PriorLearning.elicitation_wrapper import expert_model\n",
    "from PriorLearning.training import trainer\n",
    "from PriorLearning.helper_functions import group_obs, Exponential_unconstrained, Normal_unconstrained\n",
    "from PriorLearning.user_config import target_config, target_input\n",
    "from PriorLearning.helper_functions import print_restab, plot_expert_preds, group_stats, plot_priors_flow\n",
    "from PriorLearning._case_studies import truth_data_dmatrix, plot_expert_pred, tab_expert_pred, plot_loss, plot_priors_normal, expert_pred_elicits_normal\n",
    "import PriorLearning.combine_losses \n",
    "\n",
    "from tabulate import tabulate\n",
    "import pprint\n",
    "pp = pprint.PrettyPrinter(depth=4)\n",
    "\n",
    "tf.random.set_seed(2024)"
   ]
  },
  {
   "cell_type": "markdown",
   "metadata": {},
   "source": [
    "# Normal regression model\n",
    "## Background: Case Study\n",
    "We focus on an experiment conducted by Unkelbach & Rom (2020)[REF], where participants are presented with general knowledge statements in two consecutive phases. During the second phase, they are required to indicate whether each statement is true or false. The response variable of interest is the proportion of true judgments (PTJs). The main objective of the study is to investigate the influence of two factors on PTJs: (1) repetition (ReP), which involves presenting some statements from the first phase again in the second phase, and (2) encoding depth (EnC), where participants are divided into groups varying in the level of elaboration required for initial sentence processing in the first phase. We consider a 2 (ReP:repeated, new) $\\times$ 3 (EnC: shallow, standard, deep) between-subject factorial design with treatment contrasts used for both factors. The baseline levels are set as new for ReP and deep for EnC. \n",
    "## Data generating model\n",
    "\\begin{align*}\n",
    "    y_i &\\sim \\text{Normal}(\\theta_i, s)\\\\\n",
    "    \\theta_i &= \\beta_0 + \\beta_1x_1 + \\beta_2x_2 + \\beta_3x_3 + \\beta_4x_4 + \\beta_5x_5\\\\\n",
    "    \\beta_k &\\sim \\text{Normal}(\\mu_k, \\sigma_k) \\quad \\text{for }k=0,\\ldots, 5\\\\\n",
    "    s &\\sim \\text{Exponential}(\\nu)\n",
    "\\end{align*}\n",
    "Here, $𝑦_𝑖$ represents the responses for each observation $𝑖 = 1, \\ldots , 𝑁$, assumed to follow a normal distribution with mean $\\theta_𝑖$ and standard deviation $𝑠$. The expected value $\\theta_𝑖$ is modeled as a linear function of two categorical predictors, ReP and EnC. The regression coefficients $\\beta_𝑘$ for $𝑘 = 0, \\ldots , 5$ are assigned normal prior distributions. Specifically, $\\beta_0$ represents the PTJs for condition new-deep, while $\\beta_1$ represents the difference in PTJs ($\\Delta$PTJ) between repeated and new statements. Additionally, $\\beta_2$ captures the $\\Delta$PTJ for new statements in the shallow- vs. standard-encoding condition, $\\beta_3$ represents the $\\Delta$PTJ for new statements in the shallow- vs. deep-encoding condition, and $\\beta_4$ and $\\beta_5$ account for the interaction effects between ReP and EnC. The standard deviation 𝑠 of the normal likelihood follows an Exponential prior distribution with rate parameter $\\nu$."
   ]
  },
  {
   "cell_type": "markdown",
   "metadata": {},
   "source": [
    "## Methodology: Workflow\n",
    "\n",
    "+ For each mini-batch:\n",
    "    + $i$ observations with $i = 1, \\ldots, N$, \n",
    "    + $k$ regression coefficients with $k = 0,\\ldots,6$,\n",
    "    + $s$ samples from each prior distribution with $s=1,\\ldots, M$\n",
    "    + $g$ group means with $g = 1,\\ldots,6$ (corresponding to a $2 \\times 3$ factorial design\n",
    " \n",
    "+ General procedure:\n",
    "    + Draw samples from prior distribution(s) of model parameters \n",
    "    + Generate prior predictions according to the data generating model\n",
    "    + Compute the pre-defined target quantities\n",
    "    + Compute the elicited statistics of the target quantities\n",
    "    + Measure the discrepancy between the model-implied and the expert elicited statistics\n",
    "    + Update the weights of the transformation function of the normalizing flow  \n"
   ]
  },
  {
   "cell_type": "markdown",
   "metadata": {},
   "source": [
    "### Method specification\n",
    "+ PriorSamples($\\lambda = (\\mu_k, \\sigma_k, \\nu)$):\n",
    "\\begin{align*}\n",
    "\\{\\beta_k\\}_s &\\sim \\text{Normal}(\\mu_k, \\exp\\{\\sigma_k\\})\\\\\n",
    "\\{s\\}_s &\\sim \\text{Exponential}(\\nu)\n",
    "\\end{align*}\n",
    "+ Generator($\\beta_k, s$):\n",
    "\\begin{align*}\n",
    "\\{\\theta_i\\}_s &= \\{\\beta_k\\}_s \\times X_i\\\\\n",
    "\\bar{s} &= \\frac{1}{M} \\sum_{i=1}^M \\{s\\}_s\\\\\n",
    "\\{y_i\\}_s &\\sim \\text{Normal}(\\{\\theta_i\\}_s, \\bar{s})\\\\\n",
    "\\end{align*}\n",
    "+ Targets($\\{y_i\\}_s$):\n",
    "\\begin{align*}\n",
    "\\{\\bar{y}_{g}\\}_s &= \\frac{1}{N_{g}} \\sum_{i=1}^{N_{g}} \\{y_i\\}_s \\quad \\text{ for } g = 1,\\ldots,6\\\\\n",
    "\\{\\Delta_{eff}\\}_s &= \\{\\bar{y}_{g1}\\}_s - \\{\\bar{y}_{g2}\\}_s \\quad \\text{ for } g1 = 3,4,5 \\text{ and } g2 = 0,1,2\\\\\n",
    "\\{R^2\\}_s &= \\frac{Var(\\{\\theta_i\\}_s)}{Var(\\{y_i\\}_s)} \n",
    "\\end{align*}\n",
    "+ Elicits($\\{\\bar{y}_{g}\\}_s, \\{\\Delta_{eff}\\}_s, \\{R^2\\}_s$)\n",
    "\\begin{align*}\n",
    "\\text{Quantile-based:} \\quad &Q_p^{g} = Q_{p}^{g} \\{y_i\\}_s \\quad \\text{ for } g = 1,\\ldots, 6, p = 0.1, \\ldots, 0.9\\\\\n",
    "\\text{Quantile-based:} \\quad &Q_p^{eff} = Q_{p}^{eff} \\{\\Delta_{eff}\\}_s \\quad \\text{ for } eff = 1,2,3; p = 0.1, \\ldots, 0.9\\\\\n",
    "\\text{Histogram-based:} \\quad &\\{R^2\\}_s =\\{R^2\\}_s \n",
    "\\end{align*}\n",
    "\n",
    "## User specification\n",
    "\n",
    "### Setting hyperparameter for the learning algorithm"
   ]
  },
  {
   "cell_type": "code",
   "execution_count": 2,
   "metadata": {},
   "outputs": [],
   "source": [
    "# setting of hyperparameter of learning algorithm\n",
    "user_config = dict(                    \n",
    "        B = 2**8,                          \n",
    "        rep = 200,                         \n",
    "        epochs = 300,                      \n",
    "        view_ep = 30,\n",
    "        lr_decay = True,\n",
    "        lr0 = 0.1, \n",
    "        lr_min = 0.00001, \n",
    "        loss_dimensions = \"m,n:B\",   \n",
    "        loss_discrepancy = \"energy\", \n",
    "        loss_scaling = \"unscaled\",         \n",
    "        method = \"hyperparameter_learning\"  \n",
    "        )"
   ]
  },
  {
   "cell_type": "markdown",
   "metadata": {},
   "source": [
    "#### Define the design matrix"
   ]
  },
  {
   "cell_type": "code",
   "execution_count": 3,
   "metadata": {},
   "outputs": [
    {
     "data": {
      "text/html": [
       "<div>\n",
       "<style scoped>\n",
       "    .dataframe tbody tr th:only-of-type {\n",
       "        vertical-align: middle;\n",
       "    }\n",
       "\n",
       "    .dataframe tbody tr th {\n",
       "        vertical-align: top;\n",
       "    }\n",
       "\n",
       "    .dataframe thead th {\n",
       "        text-align: right;\n",
       "    }\n",
       "</style>\n",
       "<table border=\"1\" class=\"dataframe\">\n",
       "  <thead>\n",
       "    <tr style=\"text-align: right;\">\n",
       "      <th></th>\n",
       "      <th>0</th>\n",
       "      <th>1</th>\n",
       "      <th>2</th>\n",
       "      <th>3</th>\n",
       "      <th>4</th>\n",
       "      <th>5</th>\n",
       "    </tr>\n",
       "  </thead>\n",
       "  <tbody>\n",
       "    <tr>\n",
       "      <th>0</th>\n",
       "      <td>1.0</td>\n",
       "      <td>0.0</td>\n",
       "      <td>0.0</td>\n",
       "      <td>0.0</td>\n",
       "      <td>0.0</td>\n",
       "      <td>0.0</td>\n",
       "    </tr>\n",
       "    <tr>\n",
       "      <th>1</th>\n",
       "      <td>1.0</td>\n",
       "      <td>0.0</td>\n",
       "      <td>1.0</td>\n",
       "      <td>0.0</td>\n",
       "      <td>0.0</td>\n",
       "      <td>0.0</td>\n",
       "    </tr>\n",
       "    <tr>\n",
       "      <th>2</th>\n",
       "      <td>1.0</td>\n",
       "      <td>0.0</td>\n",
       "      <td>0.0</td>\n",
       "      <td>1.0</td>\n",
       "      <td>0.0</td>\n",
       "      <td>0.0</td>\n",
       "    </tr>\n",
       "    <tr>\n",
       "      <th>3</th>\n",
       "      <td>1.0</td>\n",
       "      <td>1.0</td>\n",
       "      <td>0.0</td>\n",
       "      <td>0.0</td>\n",
       "      <td>0.0</td>\n",
       "      <td>0.0</td>\n",
       "    </tr>\n",
       "    <tr>\n",
       "      <th>4</th>\n",
       "      <td>1.0</td>\n",
       "      <td>1.0</td>\n",
       "      <td>1.0</td>\n",
       "      <td>0.0</td>\n",
       "      <td>1.0</td>\n",
       "      <td>0.0</td>\n",
       "    </tr>\n",
       "    <tr>\n",
       "      <th>...</th>\n",
       "      <td>...</td>\n",
       "      <td>...</td>\n",
       "      <td>...</td>\n",
       "      <td>...</td>\n",
       "      <td>...</td>\n",
       "      <td>...</td>\n",
       "    </tr>\n",
       "    <tr>\n",
       "      <th>355</th>\n",
       "      <td>1.0</td>\n",
       "      <td>0.0</td>\n",
       "      <td>1.0</td>\n",
       "      <td>0.0</td>\n",
       "      <td>0.0</td>\n",
       "      <td>0.0</td>\n",
       "    </tr>\n",
       "    <tr>\n",
       "      <th>356</th>\n",
       "      <td>1.0</td>\n",
       "      <td>0.0</td>\n",
       "      <td>0.0</td>\n",
       "      <td>1.0</td>\n",
       "      <td>0.0</td>\n",
       "      <td>0.0</td>\n",
       "    </tr>\n",
       "    <tr>\n",
       "      <th>357</th>\n",
       "      <td>1.0</td>\n",
       "      <td>1.0</td>\n",
       "      <td>0.0</td>\n",
       "      <td>0.0</td>\n",
       "      <td>0.0</td>\n",
       "      <td>0.0</td>\n",
       "    </tr>\n",
       "    <tr>\n",
       "      <th>358</th>\n",
       "      <td>1.0</td>\n",
       "      <td>1.0</td>\n",
       "      <td>1.0</td>\n",
       "      <td>0.0</td>\n",
       "      <td>1.0</td>\n",
       "      <td>0.0</td>\n",
       "    </tr>\n",
       "    <tr>\n",
       "      <th>359</th>\n",
       "      <td>1.0</td>\n",
       "      <td>1.0</td>\n",
       "      <td>0.0</td>\n",
       "      <td>1.0</td>\n",
       "      <td>0.0</td>\n",
       "      <td>1.0</td>\n",
       "    </tr>\n",
       "  </tbody>\n",
       "</table>\n",
       "<p>360 rows × 6 columns</p>\n",
       "</div>"
      ],
      "text/plain": [
       "       0    1    2    3    4    5\n",
       "0    1.0  0.0  0.0  0.0  0.0  0.0\n",
       "1    1.0  0.0  1.0  0.0  0.0  0.0\n",
       "2    1.0  0.0  0.0  1.0  0.0  0.0\n",
       "3    1.0  1.0  0.0  0.0  0.0  0.0\n",
       "4    1.0  1.0  1.0  0.0  1.0  0.0\n",
       "..   ...  ...  ...  ...  ...  ...\n",
       "355  1.0  0.0  1.0  0.0  0.0  0.0\n",
       "356  1.0  0.0  0.0  1.0  0.0  0.0\n",
       "357  1.0  1.0  0.0  0.0  0.0  0.0\n",
       "358  1.0  1.0  1.0  0.0  1.0  0.0\n",
       "359  1.0  1.0  0.0  1.0  0.0  1.0\n",
       "\n",
       "[360 rows x 6 columns]"
      ]
     },
     "execution_count": 3,
     "metadata": {},
     "output_type": "execute_result"
    }
   ],
   "source": [
    "dmatrix, cmatrix = truth_data_dmatrix(fct1 = 2, fct2 = 3, N_group = 60)\n",
    "\n",
    "pd.DataFrame(dmatrix)"
   ]
  },
  {
   "cell_type": "markdown",
   "metadata": {},
   "source": [
    "#### Setup the 'ideal agent'\n",
    "Define an 'arbitrary' ground truth for the hyperparameter values for method validation."
   ]
  },
  {
   "cell_type": "code",
   "execution_count": 4,
   "metadata": {},
   "outputs": [
    {
     "name": "stdout",
     "output_type": "stream",
     "text": [
      "True hyperparameter values:\n"
     ]
    },
    {
     "data": {
      "text/html": [
       "<div>\n",
       "<style scoped>\n",
       "    .dataframe tbody tr th:only-of-type {\n",
       "        vertical-align: middle;\n",
       "    }\n",
       "\n",
       "    .dataframe tbody tr th {\n",
       "        vertical-align: top;\n",
       "    }\n",
       "\n",
       "    .dataframe thead th {\n",
       "        text-align: right;\n",
       "    }\n",
       "</style>\n",
       "<table border=\"1\" class=\"dataframe\">\n",
       "  <thead>\n",
       "    <tr style=\"text-align: right;\">\n",
       "      <th></th>\n",
       "      <th>mu</th>\n",
       "      <th>sigma</th>\n",
       "      <th>nu</th>\n",
       "    </tr>\n",
       "  </thead>\n",
       "  <tbody>\n",
       "    <tr>\n",
       "      <th>0</th>\n",
       "      <td>0.12</td>\n",
       "      <td>0.02</td>\n",
       "      <td>9.0</td>\n",
       "    </tr>\n",
       "    <tr>\n",
       "      <th>1</th>\n",
       "      <td>0.15</td>\n",
       "      <td>0.02</td>\n",
       "      <td>9.0</td>\n",
       "    </tr>\n",
       "    <tr>\n",
       "      <th>2</th>\n",
       "      <td>-0.02</td>\n",
       "      <td>0.06</td>\n",
       "      <td>9.0</td>\n",
       "    </tr>\n",
       "    <tr>\n",
       "      <th>3</th>\n",
       "      <td>-0.03</td>\n",
       "      <td>0.06</td>\n",
       "      <td>9.0</td>\n",
       "    </tr>\n",
       "    <tr>\n",
       "      <th>4</th>\n",
       "      <td>-0.02</td>\n",
       "      <td>0.03</td>\n",
       "      <td>9.0</td>\n",
       "    </tr>\n",
       "    <tr>\n",
       "      <th>5</th>\n",
       "      <td>-0.04</td>\n",
       "      <td>0.03</td>\n",
       "      <td>9.0</td>\n",
       "    </tr>\n",
       "  </tbody>\n",
       "</table>\n",
       "</div>"
      ],
      "text/plain": [
       "     mu  sigma   nu\n",
       "0  0.12   0.02  9.0\n",
       "1  0.15   0.02  9.0\n",
       "2 -0.02   0.06  9.0\n",
       "3 -0.03   0.06  9.0\n",
       "4 -0.02   0.03  9.0\n",
       "5 -0.04   0.03  9.0"
      ]
     },
     "execution_count": 4,
     "metadata": {},
     "output_type": "execute_result"
    }
   ],
   "source": [
    "# true hyperparameter values for ideal_expert\n",
    "true_values = dict({\n",
    "    \"mu\": [0.12, 0.15, -0.02, -0.03, -0.02, -0.04],\n",
    "    \"sigma\": [0.02, 0.02, 0.06, 0.06, 0.03, 0.03],\n",
    "    \"nu\": 9.\n",
    "})\n",
    "\n",
    "# model parameters\n",
    "parameters_dict = dict()\n",
    "for i in range(6):\n",
    "    parameters_dict[f\"beta_{i}\"] = {\n",
    "            \"family\":  Normal_unconstrained(),\n",
    "            \"true\": tfd.Normal(true_values[\"mu\"][i], true_values[\"sigma\"][i]),\n",
    "            \"initialization\": [tfd.Normal(0.,0.1)]*2\n",
    "            }\n",
    "\n",
    "exp_dist = Exponential_unconstrained(user_config[\"rep\"])\n",
    "parameters_dict[\"sigma\"] = {\n",
    "        \"family\": exp_dist,\n",
    "        \"true\": exp_dist(tf.math.log(true_values[\"nu\"])),\n",
    "        \"initialization\": [tfd.Normal(0.,0.1)]\n",
    "        }\n",
    "\n",
    "print(\"True hyperparameter values:\")\n",
    "pd.DataFrame(true_values)"
   ]
  },
  {
   "cell_type": "markdown",
   "metadata": {},
   "source": [
    "#### Define the data generating model"
   ]
  },
  {
   "cell_type": "code",
   "execution_count": 5,
   "metadata": {},
   "outputs": [],
   "source": [
    "# generative model\n",
    "class GenerativeModel(tf.Module):\n",
    "    def __call__(self, \n",
    "                 parameters, # obligatory: samples from prior distributions; tf.Tensor\n",
    "                 dmatrix,    # optional: design matrix; tf.Tensor\n",
    "                 cmatrix,    # optional: contrast matrix; tf.Tensor\n",
    "                 **kwargs    # obligatory: possibility for further keyword arguments is needed \n",
    "                 ):  \n",
    "        \n",
    "        # compute linear predictor term\n",
    "        epred = parameters[:,:,0:6] @ tf.transpose(dmatrix)\n",
    "        \n",
    "        # define likelihood\n",
    "        likelihood = tfd.Normal(\n",
    "            loc = epred, \n",
    "            scale = tf.expand_dims(parameters[:,:,-1], -1))\n",
    "        \n",
    "        # sample prior predictive data\n",
    "        ypred = likelihood.sample()\n",
    "        \n",
    "        # compute custom target quantity (here: group-differences)\n",
    "        samples_grouped = group_obs(ypred, dmatrix, cmatrix)\n",
    "\n",
    "        # compute mean difference between groups\n",
    "        effect_list = []\n",
    "        diffs = [(3,0), (4,1), (5,2)]\n",
    "        for i in range(len(diffs)):\n",
    "            # compute group difference\n",
    "            diff = tf.math.subtract(\n",
    "                samples_grouped[:, :, :, diffs[i][0]],\n",
    "                samples_grouped[:, :, :, diffs[i][1]]\n",
    "            )\n",
    "            # average over individual obs within each group\n",
    "            diff_mean = tf.reduce_mean(diff, axis=2)\n",
    "            # collect all mean group differences\n",
    "            effect_list.append(diff_mean)\n",
    "\n",
    "        mean_effects = tf.stack(effect_list, axis=-1)\n",
    "\n",
    "        # compute marginals\n",
    "        ## factor repetition: new, repeated\n",
    "        marg_ReP = tf.reduce_mean(\n",
    "            tf.stack([tf.math.add_n([samples_grouped[:, :, :, i] for i in j]) for j in [range(3),range(3,6)]], \n",
    "                     axis = -1), \n",
    "            axis = 2)\n",
    "     \n",
    "        ## factor Encoding depth: deep, standard, shallow\n",
    "        marg_EnC = tf.reduce_mean(\n",
    "            tf.stack([tf.math.add_n([samples_grouped[:, :, :, i] for i in j]) for j in [[0,3],[1,4],[2,5]]], \n",
    "                     axis = -1), \n",
    "            axis = 2)\n",
    "        \n",
    "        return dict(likelihood = likelihood,          # obligatory: likelihood; callable\n",
    "                    ypred = ypred,                    # obligatory: prior predictive data\n",
    "                    epred = epred,                    # obligatory: samples from linear predictor\n",
    "                    mean_effects = mean_effects,      # optional: custom target quantity\n",
    "                    marginal_ReP = marg_ReP,          # optional: custom target quantity\n",
    "                    marginal_EnC = marg_EnC           # optional: custom target quantity\n",
    "                    )"
   ]
  },
  {
   "cell_type": "markdown",
   "metadata": {},
   "source": [
    "#### Specify the target quantities and the elicitation technique"
   ]
  },
  {
   "cell_type": "code",
   "execution_count": 6,
   "metadata": {},
   "outputs": [
    {
     "data": {
      "text/html": [
       "<div>\n",
       "<style scoped>\n",
       "    .dataframe tbody tr th:only-of-type {\n",
       "        vertical-align: middle;\n",
       "    }\n",
       "\n",
       "    .dataframe tbody tr th {\n",
       "        vertical-align: top;\n",
       "    }\n",
       "\n",
       "    .dataframe thead th {\n",
       "        text-align: right;\n",
       "    }\n",
       "</style>\n",
       "<table border=\"1\" class=\"dataframe\">\n",
       "  <thead>\n",
       "    <tr style=\"text-align: right;\">\n",
       "      <th></th>\n",
       "      <th>target</th>\n",
       "      <th>elicitation</th>\n",
       "      <th>combine_loss</th>\n",
       "      <th>custom_target_function</th>\n",
       "      <th>internal_loss</th>\n",
       "      <th>quantiles_specs</th>\n",
       "    </tr>\n",
       "  </thead>\n",
       "  <tbody>\n",
       "    <tr>\n",
       "      <th>0</th>\n",
       "      <td>marginal_ReP</td>\n",
       "      <td>quantiles</td>\n",
       "      <td>by-group</td>\n",
       "      <td>None</td>\n",
       "      <td>None</td>\n",
       "      <td>(10, 20, 30, 40, 50, 60, 70, 80, 90)</td>\n",
       "    </tr>\n",
       "    <tr>\n",
       "      <th>1</th>\n",
       "      <td>marginal_EnC</td>\n",
       "      <td>quantiles</td>\n",
       "      <td>by-group</td>\n",
       "      <td>None</td>\n",
       "      <td>None</td>\n",
       "      <td>(10, 20, 30, 40, 50, 60, 70, 80, 90)</td>\n",
       "    </tr>\n",
       "    <tr>\n",
       "      <th>2</th>\n",
       "      <td>mean_effects</td>\n",
       "      <td>quantiles</td>\n",
       "      <td>by-group</td>\n",
       "      <td>None</td>\n",
       "      <td>None</td>\n",
       "      <td>(10, 20, 30, 40, 50, 60, 70, 80, 90)</td>\n",
       "    </tr>\n",
       "    <tr>\n",
       "      <th>3</th>\n",
       "      <td>R2</td>\n",
       "      <td>histogram</td>\n",
       "      <td>all</td>\n",
       "      <td>&lt;function custom_r2 at 0x000001B1A8C8FB00&gt;</td>\n",
       "      <td>None</td>\n",
       "      <td>None</td>\n",
       "    </tr>\n",
       "  </tbody>\n",
       "</table>\n",
       "</div>"
      ],
      "text/plain": [
       "         target elicitation combine_loss  \\\n",
       "0  marginal_ReP   quantiles     by-group   \n",
       "1  marginal_EnC   quantiles     by-group   \n",
       "2  mean_effects   quantiles     by-group   \n",
       "3            R2   histogram          all   \n",
       "\n",
       "                       custom_target_function internal_loss  \\\n",
       "0                                        None          None   \n",
       "1                                        None          None   \n",
       "2                                        None          None   \n",
       "3  <function custom_r2 at 0x000001B1A8C8FB00>          None   \n",
       "\n",
       "                        quantiles_specs  \n",
       "0  (10, 20, 30, 40, 50, 60, 70, 80, 90)  \n",
       "1  (10, 20, 30, 40, 50, 60, 70, 80, 90)  \n",
       "2  (10, 20, 30, 40, 50, 60, 70, 80, 90)  \n",
       "3                                  None  "
      ]
     },
     "execution_count": 6,
     "metadata": {},
     "output_type": "execute_result"
    }
   ],
   "source": [
    " # define a custom function using the output from the generative model   \n",
    "def custom_r2(ypred, epred, **kwargs):\n",
    "    return tf.math.divide(tf.math.reduce_variance(epred, axis = -1), \n",
    "                          tf.math.reduce_variance(ypred, axis = -1))\n",
    "\n",
    "# specify target quantity, elicitation technique and loss combination\n",
    "t1 = target_config(target = \"marginal_ReP\", \n",
    "                   elicitation = \"quantiles\", \n",
    "                   combine_loss = \"by-group\", \n",
    "                   quantiles_specs = (10, 20, 30, 40, 50, 60, 70, 80, 90))\n",
    "t2 = target_config(target = \"marginal_EnC\", \n",
    "                    elicitation = \"quantiles\", \n",
    "                    combine_loss = \"by-group\", \n",
    "                    quantiles_specs = (10, 20, 30, 40, 50, 60, 70, 80, 90)) \n",
    "t3 = target_config(target = \"mean_effects\", \n",
    "                   elicitation = \"quantiles\",\n",
    "                   combine_loss = \"by-group\",\n",
    "                   quantiles_specs = (10, 20, 30, 40, 50, 60, 70, 80, 90))\n",
    "t4 = target_config(target = \"R2\", \n",
    "                   elicitation = \"histogram\",\n",
    "                   combine_loss = \"all\",\n",
    "                   custom_target_function = custom_r2)\n",
    "\n",
    "target_info = target_input(t1, t2, t3, t4)\n",
    "\n",
    "target_info_print = target_info\n",
    "target_info_print[\"quantiles_specs\"] = target_info[\"quantiles_specs\"] + [None]\n",
    "pd.DataFrame(target_info_print)"
   ]
  },
  {
   "cell_type": "markdown",
   "metadata": {},
   "source": [
    "### Simulate from the \"ideal\" expert"
   ]
  },
  {
   "cell_type": "code",
   "execution_count": 7,
   "metadata": {
    "scrolled": true
   },
   "outputs": [
    {
     "data": {
      "text/plain": [
       "dict_keys(['marginal_ReP_quant_0', 'marginal_EnC_quant_1', 'mean_effects_quant_2', 'R2_hist_3'])"
      ]
     },
     "execution_count": 7,
     "metadata": {},
     "output_type": "execute_result"
    }
   ],
   "source": [
    "expert_res_list, prior_pred_res = expert_model(1, user_config[\"rep\"],\n",
    "                                   parameters_dict, GenerativeModel, target_info,\n",
    "                                   method = \"ideal_expert\",\n",
    "                                   dmatrix = dmatrix,\n",
    "                                   cmatrix = cmatrix,\n",
    "                                   dmatrix_fct = dmatrix)\n",
    "\n",
    "# elicited statistics from the (ideal) expert\n",
    "expert_res_list.keys()"
   ]
  },
  {
   "cell_type": "markdown",
   "metadata": {},
   "source": [
    "#### Expert predictions"
   ]
  },
  {
   "cell_type": "code",
   "execution_count": 8,
   "metadata": {},
   "outputs": [
    {
     "data": {
      "image/png": "[encoded data removed]",
      "text/plain": [
       "<Figure size 1000x300 with 4 Axes>"
      ]
     },
     "metadata": {},
     "output_type": "display_data"
    }
   ],
   "source": [
    "expert_pred_elicits_normal(expert_res_list)"
   ]
  },
  {
   "cell_type": "code",
   "execution_count": 9,
   "metadata": {},
   "outputs": [
    {
     "name": "stdout",
     "output_type": "stream",
     "text": [
      "+-------+------+------+\n",
      "| group | mean | std  |\n",
      "+-------+------+------+\n",
      "|  gr_0 | 0.12 | 0.02 |\n",
      "|  gr_1 | 0.1  | 0.06 |\n",
      "|  gr_2 | 0.09 | 0.07 |\n",
      "|  gr_3 | 0.27 | 0.03 |\n",
      "|  gr_4 | 0.22 | 0.07 |\n",
      "|  gr_5 | 0.2  | 0.08 |\n",
      "+-------+------+------+\n",
      "mean effects:\n",
      "[0.15 0.13 0.11]\n",
      "marginal ReP (new, repeated):\n",
      "[0.31 0.69]\n",
      "marginal EnC (deep, standard, shallow):\n",
      "[0.39 0.32 0.29]\n"
     ]
    }
   ],
   "source": [
    "# group means\n",
    "print(group_stats(prior_pred_res[\"ypred\"], num_groups = 6))\n",
    "# mean effects\n",
    "print(\"mean effects:\")\n",
    "print(np.round(tf.reduce_mean(prior_pred_res[\"mean_effects\"],(0,1)),2))\n",
    "# marginal distribution: Repetition\n",
    "print(\"marginal ReP (new, repeated):\")\n",
    "print(np.round(tf.reduce_mean(prior_pred_res[\"marginal_ReP\"],(0,1)),2))\n",
    "# marginal distribution: Encoding depth\n",
    "print(\"marginal EnC (deep, standard, shallow):\")\n",
    "print(np.round(tf.reduce_mean(prior_pred_res[\"marginal_EnC\"],(0,1)),2))"
   ]
  },
  {
   "cell_type": "markdown",
   "metadata": {},
   "source": [
    "### Learn the prior distributions"
   ]
  },
  {
   "cell_type": "code",
   "execution_count": 10,
   "metadata": {},
   "outputs": [
    {
     "name": "stdout",
     "output_type": "stream",
     "text": [
      "epoch_time: 712.420ms\n",
      "Epoch: 0, loss: 1.38758, lr: 0.100000\n",
      "epoch_time: 106.538ms\n",
      "Epoch: 30, loss: 0.28518, lr: 0.053144\n",
      "epoch_time: 107.433ms\n",
      "Epoch: 60, loss: 0.08011, lr: 0.028243\n",
      "epoch_time: 94.723ms\n",
      "Epoch: 90, loss: 0.04512, lr: 0.015009\n",
      "epoch_time: 105.455ms\n",
      "Epoch: 120, loss: 0.01526, lr: 0.007977\n",
      "epoch_time: 110.127ms\n",
      "Epoch: 150, loss: 0.03190, lr: 0.004239\n",
      "epoch_time: 108.893ms\n",
      "Epoch: 180, loss: 0.04075, lr: 0.002253\n",
      "epoch_time: 112.976ms\n",
      "Epoch: 210, loss: 0.01505, lr: 0.001197\n",
      "epoch_time: 108.833ms\n",
      "Epoch: 240, loss: 0.03567, lr: 0.000636\n",
      "epoch_time: 111.719ms\n",
      "Epoch: 270, loss: 0.03017, lr: 0.000338\n"
     ]
    }
   ],
   "source": [
    "res_dict = trainer(expert_res_list, user_config[\"B\"], user_config[\"rep\"],\n",
    "                   parameters_dict, user_config[\"method\"], GenerativeModel,\n",
    "                   target_info, user_config, loss_balancing = True, save_vals = [\"prior_preds\"],\n",
    "                   dmatrix = dmatrix, cmatrix = cmatrix, dmatrix_fct = dmatrix)"
   ]
  },
  {
   "cell_type": "markdown",
   "metadata": {},
   "source": [
    "## Results\n",
    "\n",
    "### Loss function"
   ]
  },
  {
   "cell_type": "code",
   "execution_count": 11,
   "metadata": {},
   "outputs": [
    {
     "data": {
      "image/png": "[encoded data removed]",
      "text/plain": [
       "<Figure size 400x300 with 1 Axes>"
      ]
     },
     "metadata": {},
     "output_type": "display_data"
    }
   ],
   "source": [
    "plot_loss(res_dict[\"loss_info\"])"
   ]
  },
  {
   "cell_type": "markdown",
   "metadata": {},
   "source": [
    "### Final learned hyperparameter values"
   ]
  },
  {
   "cell_type": "code",
   "execution_count": 12,
   "metadata": {},
   "outputs": [
    {
     "data": {
      "text/html": [
       "<table>\n",
       "    <thead>\n",
       "        <tr>\n",
       "            <th>var_name</th>\n",
       "            <th>pred mean</th>\n",
       "            <th>pred std</th>\n",
       "            <th>true</th>\n",
       "            <th>err</th>\n",
       "        </tr>\n",
       "    </thead>\n",
       "    <tbody>\n",
       "        <tr>\n",
       "            <td>loc_0</td>\n",
       "            <td>0.131</td>\n",
       "            <td>0.006</td>\n",
       "            <td>0.12</td>\n",
       "            <td>0.011</td>\n",
       "        </tr>\n",
       "        <tr>\n",
       "            <td>scale_0</td>\n",
       "            <td>0.027</td>\n",
       "            <td>0.0</td>\n",
       "            <td>0.02</td>\n",
       "            <td>0.007</td>\n",
       "        </tr>\n",
       "        <tr>\n",
       "            <td>loc_1</td>\n",
       "            <td>0.144</td>\n",
       "            <td>0.006</td>\n",
       "            <td>0.15</td>\n",
       "            <td>0.006</td>\n",
       "        </tr>\n",
       "        <tr>\n",
       "            <td>scale_1</td>\n",
       "            <td>0.025</td>\n",
       "            <td>0.0</td>\n",
       "            <td>0.02</td>\n",
       "            <td>0.005</td>\n",
       "        </tr>\n",
       "        <tr>\n",
       "            <td>loc_2</td>\n",
       "            <td>-0.037</td>\n",
       "            <td>0.006</td>\n",
       "            <td>-0.02</td>\n",
       "            <td>0.017</td>\n",
       "        </tr>\n",
       "        <tr>\n",
       "            <td>scale_2</td>\n",
       "            <td>0.059</td>\n",
       "            <td>0.0</td>\n",
       "            <td>0.06</td>\n",
       "            <td>0.001</td>\n",
       "        </tr>\n",
       "        <tr>\n",
       "            <td>loc_3</td>\n",
       "            <td>-0.045</td>\n",
       "            <td>0.007</td>\n",
       "            <td>-0.03</td>\n",
       "            <td>0.015</td>\n",
       "        </tr>\n",
       "        <tr>\n",
       "            <td>scale_3</td>\n",
       "            <td>0.068</td>\n",
       "            <td>0.001</td>\n",
       "            <td>0.06</td>\n",
       "            <td>0.008</td>\n",
       "        </tr>\n",
       "        <tr>\n",
       "            <td>loc_4</td>\n",
       "            <td>-0.016</td>\n",
       "            <td>0.006</td>\n",
       "            <td>-0.02</td>\n",
       "            <td>0.004</td>\n",
       "        </tr>\n",
       "        <tr>\n",
       "            <td>scale_4</td>\n",
       "            <td>0.032</td>\n",
       "            <td>0.0</td>\n",
       "            <td>0.03</td>\n",
       "            <td>0.002</td>\n",
       "        </tr>\n",
       "        <tr>\n",
       "            <td>loc_5</td>\n",
       "            <td>-0.031</td>\n",
       "            <td>0.007</td>\n",
       "            <td>-0.04</td>\n",
       "            <td>0.009</td>\n",
       "        </tr>\n",
       "        <tr>\n",
       "            <td>scale_5</td>\n",
       "            <td>0.03</td>\n",
       "            <td>0.0</td>\n",
       "            <td>0.03</td>\n",
       "            <td>0.0</td>\n",
       "        </tr>\n",
       "        <tr>\n",
       "            <td>rate_6</td>\n",
       "            <td>8.784</td>\n",
       "            <td>0.016</td>\n",
       "            <td>9.0</td>\n",
       "            <td>0.216</td>\n",
       "        </tr>\n",
       "    </tbody>\n",
       "</table>"
      ],
      "text/plain": [
       "+----------+-----------+----------+-------+-------+\n",
       "| var_name | pred mean | pred std |  true |  err  |\n",
       "+----------+-----------+----------+-------+-------+\n",
       "|  loc_0   |   0.131   |  0.006   |  0.12 | 0.011 |\n",
       "| scale_0  |   0.027   |   0.0    |  0.02 | 0.007 |\n",
       "|  loc_1   |   0.144   |  0.006   |  0.15 | 0.006 |\n",
       "| scale_1  |   0.025   |   0.0    |  0.02 | 0.005 |\n",
       "|  loc_2   |   -0.037  |  0.006   | -0.02 | 0.017 |\n",
       "| scale_2  |   0.059   |   0.0    |  0.06 | 0.001 |\n",
       "|  loc_3   |   -0.045  |  0.007   | -0.03 | 0.015 |\n",
       "| scale_3  |   0.068   |  0.001   |  0.06 | 0.008 |\n",
       "|  loc_4   |   -0.016  |  0.006   | -0.02 | 0.004 |\n",
       "| scale_4  |   0.032   |   0.0    |  0.03 | 0.002 |\n",
       "|  loc_5   |   -0.031  |  0.007   | -0.04 | 0.009 |\n",
       "| scale_5  |    0.03   |   0.0    |  0.03 |  0.0  |\n",
       "|  rate_6  |   8.784   |  0.016   |  9.0  | 0.216 |\n",
       "+----------+-----------+----------+-------+-------+"
      ]
     },
     "execution_count": 12,
     "metadata": {},
     "output_type": "execute_result"
    }
   ],
   "source": [
    "true_vals = [j for i in zip(true_values[\"mu\"],true_values[\"sigma\"]) for j in i]\n",
    "true_vals += [true_values[\"nu\"]]\n",
    "\n",
    "tab, avg_res = print_restab(method = \"hyperparameter_learning\", \n",
    "                             num_vars = 13, \n",
    "                             res = res_dict[\"hyperparam_info\"], \n",
    "                             start = 20, \n",
    "                             precision = 3, \n",
    "                             true_values = true_vals)\n",
    "tab"
   ]
  },
  {
   "cell_type": "markdown",
   "metadata": {},
   "source": [
    "### Learned prior distributions"
   ]
  },
  {
   "cell_type": "code",
   "execution_count": 13,
   "metadata": {},
   "outputs": [
    {
     "data": {
      "image/png": "[encoded data removed]",
      "text/plain": [
       "<Figure size 800x400 with 8 Axes>"
      ]
     },
     "metadata": {},
     "output_type": "display_data"
    }
   ],
   "source": [
    "plot_priors_normal(avg_res, true_values)"
   ]
  }
 ],
 "metadata": {
  "kernelspec": {
   "display_name": "Python 3 (ipykernel)",
   "language": "python",
   "name": "python3"
  },
  "language_info": {
   "codemirror_mode": {
    "name": "ipython",
    "version": 3
   },
   "file_extension": ".py",
   "mimetype": "text/x-python",
   "name": "python",
   "nbconvert_exporter": "python",
   "pygments_lexer": "ipython3",
   "version": "3.11.4"
  }
 },
 "nbformat": 4,
 "nbformat_minor": 4
}