{
 "cells": [
  {
   "cell_type": "code",
   "execution_count": 1,
   "metadata": {},
   "outputs": [
    {
     "name": "stderr",
     "output_type": "stream",
     "text": [
      "C:\\Users\\flobo\\anaconda3\\envs\\make-my-prior\\Lib\\site-packages\\bayesflow\\trainers.py:27: TqdmWarning: IProgress not found. Please update jupyter and ipywidgets. See https://ipywidgets.readthedocs.io/en/stable/user_install.html\n",
      "  from tqdm.autonotebook import tqdm\n"
     ]
    }
   ],
   "source": [
    "import patsy as pa\n",
    "import tensorflow as tf\n",
    "import tensorflow_probability as tfp\n",
    "import numpy as np\n",
    "import pandas as pd\n",
    "\n",
    "tfd = tfp.distributions\n",
    "\n",
    "from PriorLearning.elicitation_wrapper import expert_model\n",
    "from PriorLearning.training import trainer\n",
    "from PriorLearning.helper_functions import group_obs, Exponential_unconstrained, Normal_unconstrained, TruncatedNormal_unconstrained\n",
    "from PriorLearning.user_config import target_config, target_input\n",
    "from PriorLearning.helper_functions import _print_restab\n",
    "from PriorLearning._case_studies import sleep_data_predictor, plot_expert_pred, tab_expert_pred, plot_loss, plot_priors, print_target_info\n",
    "import PriorLearning.combine_losses \n",
    "\n",
    "from tabulate import tabulate\n",
    "import pprint\n",
    "pp = pprint.PrettyPrinter(depth=4)\n",
    "\n",
    "tf.random.set_seed(2024)"
   ]
  },
  {
   "attachments": {},
   "cell_type": "markdown",
   "metadata": {},
   "source": [
    "# Normal Mutlilevel Model Model\n",
    "\n",
    "## Background: Case Study\n",
    "The accompanying example in this case study draws inspiration from the *sleepstudy* dataset (Belenky et al., 2003) that comes along with the R-package *lme4* (Bates et al., 2014). This dataset contains information about the average reaction time (RT) in milliseconds for $N$ individuals who undergo sleep deprivation for nine consecutive nights (with less than three hours of sleep per night). In order to construct a model for this data, we consider a hierarchical model with days serving as a continuous predictor denoted as $x$.\n",
    "\n",
    "**References**\n",
    "\n",
    "+ Belenky, G., Wesensten, N. J., Thorne, D. R., Thomas, M. L., Sing, H. C., Redmond, D. P., ... & Balkin, T. J. (2003). Patterns of performance degradation and restoration during sleep restriction and subsequent recovery: A sleep dose‐response study. *Journal of sleep research*, 12(1), 1-12.\n",
    "+ Bates, D., Mächler, M., Bolker, B., & Walker, S. (2015). Fitting Linear Mixed-Effects Models Using lme4. *Journal of Statistical Software*, 67, 1-48.\n",
    "  \n",
    "## Data generating model\n",
    "\\begin{align}\n",
    "    \\begin{split}\n",
    "    y_{ij} &= \\textrm{Normal}(\\theta_{ij}, s)\\\\\n",
    "    \\theta_{ij} &= \\beta_{0,j} + \\beta_{1,j} x_{ij} \\\\\n",
    "    \\beta_{0,j} &= \\beta_0 + u_{0,j} \\\\\n",
    "    \\beta_{1,j} &= \\beta_1 + u_{1,j} \\\\\n",
    "    ( u_{0,j}, u_{1,j} ) &\\sim \\textrm{MvNormal}\\left(\\textbf{0}, \\Sigma_u\\right) \\\\\n",
    "    \\Sigma_u &= \\begin{pmatrix}\\tau_0^2 & \\rho_{01} \\tau_0 \\tau_1 \\\\ \\rho_{01} \\tau_0 \\tau_1 & \\tau_1^2\\end{pmatrix} \\\\\n",
    "    \\beta_k &\\sim \\textrm{Normal}(\\mu_k, \\sigma_k) \\qquad\\textrm{ for } k=0,1\\\\\n",
    "    \\tau_k &\\sim \\textrm{TruncatedNormal}(0, \\omega_k) \\qquad\\textrm{for } k=0,1\\\\\n",
    "    \\rho_{01} &\\sim \\textrm{LKJ}(\\alpha_\\textrm{LKJ}) \\\\\n",
    "    s &\\sim \\textrm{Exponential}(\\nu).\n",
    "    \\end{split}\n",
    "\\end{align}\n",
    "Here $y_{ij}$ represents the average RT for the $j^{th}$ participant at the $i^{th}$ day with $j=1,\\ldots, 100$ and $i=0,\\ldots,9$. \n",
    "The original *sleepstudy* dataset comprises only 18 participants. However, our objective is to assess the validity of our elicitation method by recovering each model (hyper)parameter accurately. To achieve this goal and capture the precise variability indicated by the varying effects, it was necessary to employ a larger sample size.\n",
    "The RT data is assumed to follow a normal distribution with local mean $\\theta_{ij}$ and within-person standard deviation $s$. Here, $\\theta_{ij}$ is predicted by a linear combination of the continuous predictor $x$ with overall slope $\\beta_1$ and intercept $\\beta_0$. \n",
    "Given the potential variation in both baseline and change in RT across participants, the model incorporates varying (i.e., ``random'') intercepts $u_{0,j}$ and varying slopes $u_{1,j}$. These varying intercepts and slopes follow a multivariate normal distribution, centered at a mean vector of zero and with a covariance matrix $\\Sigma_u$. This encodes the variability ($\\tau_0, \\tau_1$) and the correlation ($\\rho_{01}$) between $u_{0,j}$ and $u_{1,j}$. \n"
   ]
  },
  {
   "cell_type": "markdown",
   "metadata": {},
   "source": [
    "## Methodology: Workflow\n",
    " \n",
    "+ General procedure:\n",
    "    + Draw samples from prior distribution(s) of model parameters \n",
    "    + Generate prior predictions according to the data generating model\n",
    "    + Compute the pre-defined target quantities\n",
    "    + Compute the elicited statistics of the target quantities\n",
    "    + Measure the discrepancy between the model-implied and the expert elicited statistics\n",
    "    + Update the weights of the transformation function of the normalizing flow  \n"
   ]
  },
  {
   "cell_type": "markdown",
   "metadata": {},
   "source": [
    "+ PriorSamples($\\lambda = (\\mu_k, \\sigma_k)$):\n",
    "\\begin{align*}\n",
    "\\{\\beta_k\\}_s &\\sim \\text{Normal}(\\mu_k, \\exp\\{\\sigma_k\\})\\\\\n",
    "\\end{align*}\n",
    "+ Generator($\\beta_k$):\n",
    "\\begin{align*}\n",
    "\\{\\text{log}(\\theta_i)\\}_s &= \\{\\beta_k\\}_s \\times X_i\\\\\n",
    "\\{y_i\\}_s &\\sim \\text{Poisson}(\\{\\theta_i\\}_s)\\\\\n",
    "\\end{align*}\n",
    "+ Targets($\\{y_j\\}_s$, $\\{\\bar{y}_G\\}_s$):\n",
    "\\begin{align*}\n",
    "\\{y_j\\}_s &= \\{y_j\\}_s \\quad \\text{ for } j = 1,11,17,22,35,44\\\\\n",
    "\\{\\bar{y}_G\\}_s &= \\frac{1}{\\mid G \\mid} \\sum_{i\\in G}\\mathbb 1_G (\\{y_i\\}_s) \\quad \\text{ with G = Democratic, Republican, Swing}\\\\\n",
    "\\end{align*}\n",
    "+ Elicits($\\{y_{j}\\}_s, \\{R^2\\}_s$)\n",
    "\\begin{align*}\n",
    "\\text{Histogram-based:}& \\quad \\{y_j\\}_s = \\{y_j\\}_s \\quad \\text{ for } j = 1,11,17,22,35,44\\\\\n",
    "\\text{Quantile-based:}& \\quad Q_p^{G} = Q_{p}^{G} \\{\\bar{y}_G\\}_s \\quad \\text{G = Democratic, Republican, Swing, } p = 0.1, \\ldots, 0.9\\\\\n",
    "\\end{align*}\n",
    "\n",
    "## User specification\n",
    "\n",
    "### Setting hyperparameter for the learning algorithm"
   ]
  },
  {
   "cell_type": "code",
   "execution_count": 2,
   "metadata": {},
   "outputs": [
    {
     "data": {
      "text/html": [
       "<div>\n",
       "<style scoped>\n",
       "    .dataframe tbody tr th:only-of-type {\n",
       "        vertical-align: middle;\n",
       "    }\n",
       "\n",
       "    .dataframe tbody tr th {\n",
       "        vertical-align: top;\n",
       "    }\n",
       "\n",
       "    .dataframe thead th {\n",
       "        text-align: right;\n",
       "    }\n",
       "</style>\n",
       "<table border=\"1\" class=\"dataframe\">\n",
       "  <thead>\n",
       "    <tr style=\"text-align: right;\">\n",
       "      <th></th>\n",
       "      <th>0</th>\n",
       "      <th>1</th>\n",
       "    </tr>\n",
       "  </thead>\n",
       "  <tbody>\n",
       "    <tr>\n",
       "      <th>0</th>\n",
       "      <td>1.0</td>\n",
       "      <td>-1.566699</td>\n",
       "    </tr>\n",
       "    <tr>\n",
       "      <th>1</th>\n",
       "      <td>1.0</td>\n",
       "      <td>-0.870388</td>\n",
       "    </tr>\n",
       "    <tr>\n",
       "      <th>2</th>\n",
       "      <td>1.0</td>\n",
       "      <td>-0.174078</td>\n",
       "    </tr>\n",
       "    <tr>\n",
       "      <th>3</th>\n",
       "      <td>1.0</td>\n",
       "      <td>0.522233</td>\n",
       "    </tr>\n",
       "    <tr>\n",
       "      <th>4</th>\n",
       "      <td>1.0</td>\n",
       "      <td>1.218544</td>\n",
       "    </tr>\n",
       "    <tr>\n",
       "      <th>5</th>\n",
       "      <td>1.0</td>\n",
       "      <td>-1.566699</td>\n",
       "    </tr>\n",
       "  </tbody>\n",
       "</table>\n",
       "</div>"
      ],
      "text/plain": [
       "     0         1\n",
       "0  1.0 -1.566699\n",
       "1  1.0 -0.870388\n",
       "2  1.0 -0.174078\n",
       "3  1.0  0.522233\n",
       "4  1.0  1.218544\n",
       "5  1.0 -1.566699"
      ]
     },
     "execution_count": 2,
     "metadata": {},
     "output_type": "execute_result"
    }
   ],
   "source": [
    "# setting of hyperparameter of learning algorithm\n",
    "user_config = dict(                    \n",
    "        B = 2**7,                          \n",
    "        rep = 200,                         \n",
    "        epochs = 600,                      \n",
    "        view_ep = 60,\n",
    "        lr_decay = True,\n",
    "        lr0 = 0.1, \n",
    "        lr_min = 0.001, \n",
    "        loss_dimensions = \"m,n:B\",   \n",
    "        loss_discrepancy = \"energy\", \n",
    "        loss_scaling = \"unscaled\",         \n",
    "        method = \"hyperparameter_learning\"  \n",
    "        )\n",
    "\n",
    "# further case study specific variables\n",
    "N_subj = 300 # number of participants\n",
    "N_days = 10  # number of total days\n",
    "selected_days = [0,2,4,6,8] # days for which the expert is queried\n",
    "# get design matrix\n",
    "dmatrix, cmatrix = sleep_data_predictor(scaling = \"standardize\", N_days = N_days, N_subj = N_subj, selected_days = selected_days)\n",
    "pd.DataFrame(dmatrix).head(6)"
   ]
  },
  {
   "cell_type": "markdown",
   "metadata": {},
   "source": [
    "### Setup the 'ideal agent'\n",
    "The following prior distributions are assumed: \n",
    "+ A normal distribution for the overall (i.e., ``fixed'') effects $\\beta_k$ ($k = 0, 1$) with mean $\\mu_k$ and standard deviation $\\sigma_k$.\n",
    "+ A truncated normal distribution centered at zero with a standard deviation of $\\omega_k$, is employed for the person-specific variation $\\tau_k$, which is constrained to be positive.\n",
    "+ The correlation parameter $\\rho_{01}$ follows a Lewandowski-Kurowicka-Joe (LKJ; Lewandowski, Kurowicka, & Joe, 2009) distribution with scale parameter $\\alpha_\\textrm{LKJ}$. In the subsequent context, we set  $\\alpha_\\textrm{LKJ}$ to 1. Additionally, an Exponential prior distribution with rate $\\nu$ is used for the within-person (error) standard deviation $s$.\n",
    "+ The goal is to learn seven hyperparameters $\\lambda=(\\mu_k,\\sigma_k, \\omega_k, \\nu)$ based on expert knowledge.\n",
    "+ The ideal expert is defined by the following true hyperparameters: $\\lambda^*=(\\mu_0=250.40, \\mu_1=30.26, \\sigma_0=7.27, \\sigma_1=4.82, \\omega_0=33.00, \\omega_1=23.00, \\nu=0.04)$.\n",
    "\n",
    "**Reference**\n",
    "\n",
    "Lewandowski, D., Kurowicka, D., & Joe, H. (2009). Generating random correlation matrices based on vines and extended onion method. Journal of multivariate analysis, 100(9), 1989-2001."
   ]
  },
  {
   "cell_type": "code",
   "execution_count": 3,
   "metadata": {},
   "outputs": [
    {
     "name": "stdout",
     "output_type": "stream",
     "text": [
      "True hyperparameter values:\n"
     ]
    },
    {
     "data": {
      "text/html": [
       "<div>\n",
       "<style scoped>\n",
       "    .dataframe tbody tr th:only-of-type {\n",
       "        vertical-align: middle;\n",
       "    }\n",
       "\n",
       "    .dataframe tbody tr th {\n",
       "        vertical-align: top;\n",
       "    }\n",
       "\n",
       "    .dataframe thead th {\n",
       "        text-align: right;\n",
       "    }\n",
       "</style>\n",
       "<table border=\"1\" class=\"dataframe\">\n",
       "  <thead>\n",
       "    <tr style=\"text-align: right;\">\n",
       "      <th></th>\n",
       "      <th>mu</th>\n",
       "      <th>sigma</th>\n",
       "      <th>omega</th>\n",
       "      <th>alpha_lkj</th>\n",
       "      <th>nu</th>\n",
       "    </tr>\n",
       "  </thead>\n",
       "  <tbody>\n",
       "    <tr>\n",
       "      <th>0</th>\n",
       "      <td>250.40</td>\n",
       "      <td>7.27</td>\n",
       "      <td>33.0</td>\n",
       "      <td>1.0</td>\n",
       "      <td>0.04</td>\n",
       "    </tr>\n",
       "    <tr>\n",
       "      <th>1</th>\n",
       "      <td>30.26</td>\n",
       "      <td>4.82</td>\n",
       "      <td>23.0</td>\n",
       "      <td>1.0</td>\n",
       "      <td>0.04</td>\n",
       "    </tr>\n",
       "  </tbody>\n",
       "</table>\n",
       "</div>"
      ],
      "text/plain": [
       "       mu  sigma  omega  alpha_lkj    nu\n",
       "0  250.40   7.27   33.0        1.0  0.04\n",
       "1   30.26   4.82   23.0        1.0  0.04"
      ]
     },
     "execution_count": 3,
     "metadata": {},
     "output_type": "execute_result"
    }
   ],
   "source": [
    "# true hyperparameter values for ideal_expert\n",
    "true_values = dict({\n",
    "    \"mu\": [250.40, 30.26],\n",
    "    \"sigma\": [7.27, 4.82],\n",
    "    \"omega\": [33., 23.],\n",
    "    \"alpha_lkj\": 1.,\n",
    "    \"nu\": 0.04\n",
    "})\n",
    "\n",
    "# model parameters\n",
    "parameters_dict = {\n",
    "    \"beta_0\": {\n",
    "        \"family\":  Normal_unconstrained(),\n",
    "        \"true\": tfd.Normal(true_values[\"mu\"][0], true_values[\"sigma\"][0]),\n",
    "        \"initialization\": [tfd.Normal(240.,5.), tfd.Normal(1.,0.2)]\n",
    "        },\n",
    "    \"beta_1\": {\n",
    "        \"family\":  Normal_unconstrained(),\n",
    "        \"true\": tfd.Normal(true_values[\"mu\"][1], true_values[\"sigma\"][1]),\n",
    "        \"initialization\": [tfd.Normal(40.,5.), tfd.Normal(1.,0.2)]\n",
    "        },\n",
    "    \"tau_0\": {\n",
    "        \"family\": TruncatedNormal_unconstrained(loc = 0.,low = 0.,high = 500),\n",
    "        \"true\":  tfd.TruncatedNormal(0., true_values[\"omega\"][0], low=0., high=500),\n",
    "        \"initialization\": [tfd.Normal(3.,0.5)]\n",
    "        },\n",
    "    \"tau_1\": {\n",
    "        \"family\": TruncatedNormal_unconstrained(loc = 0.,low = 0.,high = 500),\n",
    "        \"true\":  tfd.TruncatedNormal(0., true_values[\"omega\"][1], low=0., high=500),\n",
    "        \"initialization\": [tfd.Normal(3.,0.1)]\n",
    "        },\n",
    "    \"sigma\": {\n",
    "        \"family\": Exponential_unconstrained(user_config[\"rep\"]),\n",
    "        \"true\": tfd.Exponential(true_values[\"nu\"]),\n",
    "        \"initialization\": [tfd.Normal(0., 0.1)]\n",
    "        }\n",
    "    }\n",
    "\n",
    "print(\"True hyperparameter values:\")\n",
    "pd.DataFrame(true_values)"
   ]
  },
  {
   "cell_type": "markdown",
   "metadata": {},
   "source": [
    "### Define the data generating model"
   ]
  },
  {
   "cell_type": "code",
   "execution_count": 4,
   "metadata": {},
   "outputs": [],
   "source": [
    "# generative model\n",
    "class GenerativeModel(tf.Module):\n",
    "    def __call__(self, \n",
    "                 parameters,        # obligatory: samples from prior distributions; tf.Tensor\n",
    "                 dmatrix,           # required: design matrix; tf.Tensor\n",
    "                 alpha_lkj,\n",
    "                 N_subj,\n",
    "                 N_days,\n",
    "                 **kwargs           # obligatory: possibility for further keyword arguments is needed \n",
    "                 ):  \n",
    "        # correlation matrix\n",
    "        corr_matrix = tfd.LKJ(2, alpha_lkj).sample((user_config[\"B\"], user_config[\"rep\"]))\n",
    "        \n",
    "        # SD matrix\n",
    "        # shape = (B, 2)\n",
    "        taus_m = tf.reduce_mean(\n",
    "            tf.gather(parameters, indices=[2,3], axis=-1),\n",
    "            axis=1)\n",
    "        \n",
    "        # shape = (B, 2, 2)\n",
    "        S = tf.linalg.diag(taus_m)\n",
    "        \n",
    "        # covariance matrix: Cov=S*R*S\n",
    "        # shape = (B, 2, 2)\n",
    "        corr_mat = tf.linalg.diag(diagonal=(1.,1.), \n",
    "                                  padding_value=tf.reduce_mean(corr_matrix))\n",
    "        # compute cov matrix\n",
    "        # shape = (B, 2, 2)\n",
    "        cov_mx_subj = tf.matmul(tf.matmul(S,corr_mat), S)\n",
    "        \n",
    "        # generate by-subject random effects: T0s, T1s\n",
    "        # shape = (B, N_subj, 2)\n",
    "        subj_rfx = tfd.Sample(\n",
    "            tfd.MultivariateNormalTriL(\n",
    "                loc= [0,0], \n",
    "                scale_tril=tf.linalg.cholesky(cov_mx_subj)), \n",
    "            N_subj).sample()\n",
    "        \n",
    "        # broadcast by-subject random effects\n",
    "        # shape = (B, N_obs, 2) with N_obs = N_subj*N_days\n",
    "        taus = tf.reshape(\n",
    "            tf.broadcast_to(\n",
    "                tf.expand_dims(subj_rfx, axis=2), \n",
    "                shape=(user_config[\"B\"], N_subj, N_days, 2)), \n",
    "            shape=(user_config[\"B\"], N_subj*N_days, 2))\n",
    "        \n",
    "        # reshape coefficients\n",
    "        # shape = (B, rep, N_obs, 2) with N_obs = N_subj*N_days\n",
    "        betas_reshaped = tf.broadcast_to(\n",
    "            tf.expand_dims(\n",
    "                tf.gather(parameters, indices=[0,1], axis=-1),\n",
    "                axis=2), \n",
    "            shape=(user_config[\"B\"], user_config[\"rep\"], N_subj*N_days, 2))\n",
    "        \n",
    "        ## compute betas_s\n",
    "        # shape = (B, rep, N_obs, 2) with N_obs = N_subj*N_days\n",
    "        betas = tf.add(betas_reshaped, tf.expand_dims(taus, axis=1)) \n",
    "        \n",
    "        # compute linear predictor term\n",
    "        # shape = (B, rep, N_obs) with N_obs = N_subj*N_days\n",
    "        epred = tf.add(betas[:,:,:,0]*dmatrix[:,0], \n",
    "                       betas[:,:,:,1]*dmatrix[:,1])\n",
    "        \n",
    "        # define likelihood\n",
    "        likelihood = tfd.Normal(loc = epred,\n",
    "                                scale = tf.expand_dims(parameters[:,:,-1],-1))\n",
    "        \n",
    "        # sample prior predictive data\n",
    "        ypred = likelihood.sample()\n",
    "        \n",
    "        # custom target quantities \n",
    "        ## epred averaged over individuals\n",
    "        epred_days = tf.stack([epred[:,:,i::N_days] for i in range(N_days)], \n",
    "                              axis = -1)\n",
    "        epred_days = tf.reduce_mean(epred_days, axis=2)\n",
    "        \n",
    "        ## R2 for initial day\n",
    "        R2_day0 = tf.divide(\n",
    "            tf.math.reduce_variance(epred[:,:,selected_days[0]::N_days], axis=-1),\n",
    "            tf.math.reduce_variance(ypred[:,:,selected_days[0]::N_days], axis=-1))\n",
    "        \n",
    "        ## R2 for last day\n",
    "        R2_day9 = tf.divide(\n",
    "            tf.math.reduce_variance(epred[:,:,selected_days[-1]::N_days], axis=-1),\n",
    "            tf.math.reduce_variance(ypred[:,:,selected_days[-1]::N_days], axis=-1))\n",
    "        \n",
    "        return dict(likelihood = likelihood,      # obligatory: likelihood; callable; \n",
    "                    ypred = ypred,                # obligatory: prior predictive data\n",
    "                    epred = epred,                # obligatory: samples from linear predictor\n",
    "                    sigma = parameters[:,:,-1],   # optional: custom target quantity: sigma\n",
    "                    epred_days = epred_days,      # optional: custom target quantity: epred avg. over individuals\n",
    "                    R2_day0 = R2_day0,            # optional: custom target quantity: R2 first day\n",
    "                    R2_day9 = R2_day9             # optional: custom target quantity; R2 last day\n",
    "                    )"
   ]
  },
  {
   "cell_type": "markdown",
   "metadata": {},
   "source": [
    "### Specify the target quantities and the elicitation technique\n",
    "\n",
    "+ We elicit expert knowledge within both the parameter and observable space, underscoring the inherently \\emph{hybrid} nature of our elicitation method.\n",
    "+ The analyst queries the expert regarding the following target quantities: the expected average RT for specific days $x_i$, where $i = 0,2,4,6,8$, the within-person standard deviation $s$, and the expected distribution of $R^2$ for the initial and final days ($i = 0,9$).\n",
    "+ We assume that the analyst employs quantile-based elicitation for the expected average RT per chosen day $x_i$.\n",
    "+ For the within-person standard deviation $s$, a moment-based elicitation approach is used, asking the expert regarding both the expected mean and standard deviation of $s$.\n",
    "+ Additionally, histogram-elicitation is utilized to query the expected $R^2$ distribution for each day."
   ]
  },
  {
   "cell_type": "code",
   "execution_count": 5,
   "metadata": {},
   "outputs": [
    {
     "data": {
      "text/html": [
       "<div>\n",
       "<style scoped>\n",
       "    .dataframe tbody tr th:only-of-type {\n",
       "        vertical-align: middle;\n",
       "    }\n",
       "\n",
       "    .dataframe tbody tr th {\n",
       "        vertical-align: top;\n",
       "    }\n",
       "\n",
       "    .dataframe thead th {\n",
       "        text-align: right;\n",
       "    }\n",
       "</style>\n",
       "<table border=\"1\" class=\"dataframe\">\n",
       "  <thead>\n",
       "    <tr style=\"text-align: right;\">\n",
       "      <th></th>\n",
       "      <th>target</th>\n",
       "      <th>elicitation</th>\n",
       "      <th>combine_loss</th>\n",
       "      <th>custom_target_function</th>\n",
       "      <th>moments_specs</th>\n",
       "      <th>quantiles_specs</th>\n",
       "    </tr>\n",
       "  </thead>\n",
       "  <tbody>\n",
       "    <tr>\n",
       "      <th>0</th>\n",
       "      <td>sigma</td>\n",
       "      <td>moments</td>\n",
       "      <td>by-stats</td>\n",
       "      <td>None</td>\n",
       "      <td>(mean, sd)</td>\n",
       "      <td>None</td>\n",
       "    </tr>\n",
       "    <tr>\n",
       "      <th>1</th>\n",
       "      <td>epred_days</td>\n",
       "      <td>quantiles</td>\n",
       "      <td>by-group</td>\n",
       "      <td>None</td>\n",
       "      <td>None</td>\n",
       "      <td>(10, 20, 30, 40, 50, 60, 70, 80, 90)</td>\n",
       "    </tr>\n",
       "    <tr>\n",
       "      <th>2</th>\n",
       "      <td>R2_day0</td>\n",
       "      <td>histogram</td>\n",
       "      <td>all</td>\n",
       "      <td>None</td>\n",
       "      <td>None</td>\n",
       "      <td>None</td>\n",
       "    </tr>\n",
       "    <tr>\n",
       "      <th>3</th>\n",
       "      <td>R2_day9</td>\n",
       "      <td>histogram</td>\n",
       "      <td>all</td>\n",
       "      <td>None</td>\n",
       "      <td>None</td>\n",
       "      <td>None</td>\n",
       "    </tr>\n",
       "    <tr>\n",
       "      <th>4</th>\n",
       "      <td>sd_mu_day0</td>\n",
       "      <td>histogram</td>\n",
       "      <td>all</td>\n",
       "      <td>&lt;function sdmu_day_init at 0x0000017DFDFCA8E0&gt;</td>\n",
       "      <td>None</td>\n",
       "      <td>None</td>\n",
       "    </tr>\n",
       "    <tr>\n",
       "      <th>5</th>\n",
       "      <td>sd_mu_day9</td>\n",
       "      <td>histogram</td>\n",
       "      <td>all</td>\n",
       "      <td>&lt;function sdmu_day_last at 0x0000017DFDFCAC00&gt;</td>\n",
       "      <td>None</td>\n",
       "      <td>None</td>\n",
       "    </tr>\n",
       "  </tbody>\n",
       "</table>\n",
       "</div>"
      ],
      "text/plain": [
       "       target elicitation combine_loss  \\\n",
       "0       sigma     moments     by-stats   \n",
       "1  epred_days   quantiles     by-group   \n",
       "2     R2_day0   histogram          all   \n",
       "3     R2_day9   histogram          all   \n",
       "4  sd_mu_day0   histogram          all   \n",
       "5  sd_mu_day9   histogram          all   \n",
       "\n",
       "                           custom_target_function moments_specs  \\\n",
       "0                                            None    (mean, sd)   \n",
       "1                                            None          None   \n",
       "2                                            None          None   \n",
       "3                                            None          None   \n",
       "4  <function sdmu_day_init at 0x0000017DFDFCA8E0>          None   \n",
       "5  <function sdmu_day_last at 0x0000017DFDFCAC00>          None   \n",
       "\n",
       "                        quantiles_specs  \n",
       "0                                  None  \n",
       "1  (10, 20, 30, 40, 50, 60, 70, 80, 90)  \n",
       "2                                  None  \n",
       "3                                  None  \n",
       "4                                  None  \n",
       "5                                  None  "
      ]
     },
     "execution_count": 5,
     "metadata": {},
     "output_type": "execute_result"
    }
   ],
   "source": [
    "# specify target quantity, elicitation technique and loss combination\n",
    "# define a custom function using the output from the generative model \n",
    "def sdmu_day_init(ypred, R2_day0):\n",
    "    day = selected_days[0]\n",
    "    len_days = len(selected_days)\n",
    "    sdmu = tf.sqrt(tf.multiply(R2_day0,\n",
    "                        tf.math.reduce_variance(ypred[:,:,day::len_days], axis=-1)))\n",
    "    return sdmu\n",
    "\n",
    "def sdmu_day_last(ypred, R2_day9):\n",
    "    day = selected_days[-1]\n",
    "    len_days = len(selected_days)\n",
    "    sdmu = tf.sqrt(tf.multiply(R2_day9,\n",
    "                        tf.math.reduce_variance(ypred[:,:,day::len_days], axis=-1)))\n",
    "    return sdmu\n",
    "\n",
    "# specify target quantity, elicitation technique and loss combination\n",
    "t1 = target_config(target=\"sigma\", \n",
    "                   elicitation=\"moments\",\n",
    "                   combine_loss=\"by-stats\",\n",
    "                   moments_specs=(\"mean\", \"sd\"))\n",
    "t2 = target_config(target=\"epred_days\", \n",
    "                   elicitation=\"quantiles\",\n",
    "                   combine_loss=\"by-group\",\n",
    "                   quantiles_specs = (10, 20, 30, 40, 50, 60, 70, 80, 90))\n",
    "t3 = target_config(target=\"R2_day0\", \n",
    "                   elicitation=\"histogram\",\n",
    "                   combine_loss=\"all\")\n",
    "t4 = target_config(target=\"R2_day9\", \n",
    "                   elicitation=\"histogram\",\n",
    "                   combine_loss=\"all\")\n",
    "t5 = target_config(target=\"sd_mu_day0\", \n",
    "                   elicitation=\"histogram\",\n",
    "                   combine_loss=\"all\",\n",
    "                   custom_target_function=sdmu_day_init)\n",
    "t6 = target_config(target=\"sd_mu_day9\", \n",
    "                   elicitation=\"histogram\",\n",
    "                   combine_loss=\"all\",\n",
    "                   custom_target_function=sdmu_day_last)\n",
    "\n",
    "target_info = target_input(t1, t2, t3, t4, t5, t6)\n",
    "\n",
    "# print summary of expert input\n",
    "print_target_info(target_info)"
   ]
  },
  {
   "cell_type": "markdown",
   "metadata": {},
   "source": [
    "## Simulate from the \"ideal\" expert"
   ]
  },
  {
   "cell_type": "code",
   "execution_count": 6,
   "metadata": {
    "scrolled": true
   },
   "outputs": [
    {
     "data": {
      "text/plain": [
       "dict_keys(['sigma_mom_0', 'epred_days_quant_1', 'R2_day0_hist_2', 'R2_day9_hist_3', 'sd_mu_day0_hist_4', 'sd_mu_day9_hist_5'])"
      ]
     },
     "execution_count": 6,
     "metadata": {},
     "output_type": "execute_result"
    }
   ],
   "source": [
    "expert_res_list, prior_pred_res = expert_model(1, user_config[\"rep\"],\n",
    "                                   parameters_dict, GenerativeModel, target_info,\n",
    "                                   method = \"ideal_expert\",\n",
    "                                   dmatrix = dmatrix,\n",
    "                                   alpha_lkj = 1., N_subj = N_subj, N_days = len(selected_days))\n",
    "\n",
    "# elicited statistics from the (ideal) expert\n",
    "expert_res_list.keys()"
   ]
  },
  {
   "cell_type": "markdown",
   "metadata": {},
   "source": [
    "### Expert predictions"
   ]
  },
  {
   "cell_type": "code",
   "execution_count": 7,
   "metadata": {},
   "outputs": [
    {
     "ename": "KeyError",
     "evalue": "'y_obs_quant_0'",
     "output_type": "error",
     "traceback": [
      "\u001b[1;31m---------------------------------------------------------------------------\u001b[0m",
      "\u001b[1;31mKeyError\u001b[0m                                  Traceback (most recent call last)",
      "Cell \u001b[1;32mIn[7], line 3\u001b[0m\n\u001b[0;32m      1\u001b[0m \u001b[38;5;66;03m# number of patients who died within five years out of 𝑇 = 100 trials\u001b[39;00m\n\u001b[0;32m      2\u001b[0m \u001b[38;5;66;03m# for 0, 5, 10, 15, 20, 25, 30 axillary nodes\u001b[39;00m\n\u001b[1;32m----> 3\u001b[0m tab_expert_pred(\u001b[43mexpert_res_list\u001b[49m\u001b[43m[\u001b[49m\u001b[38;5;124;43m'\u001b[39;49m\u001b[38;5;124;43my_obs_quant_0\u001b[39;49m\u001b[38;5;124;43m'\u001b[39;49m\u001b[43m]\u001b[49m, \n\u001b[0;32m      4\u001b[0m                 selected_obs \u001b[38;5;241m=\u001b[39m [\u001b[38;5;241m1\u001b[39m, \u001b[38;5;241m11\u001b[39m, \u001b[38;5;241m17\u001b[39m, \u001b[38;5;241m22\u001b[39m, \u001b[38;5;241m35\u001b[39m, \u001b[38;5;241m44\u001b[39m])\n",
      "\u001b[1;31mKeyError\u001b[0m: 'y_obs_quant_0'"
     ]
    }
   ],
   "source": [
    "# number of patients who died within five years out of 𝑇 = 100 trials\n",
    "# for 0, 5, 10, 15, 20, 25, 30 axillary nodes\n",
    "tab_expert_pred(expert_res_list['y_obs_quant_0'], \n",
    "                selected_obs = [1, 11, 17, 22, 35, 44])"
   ]
  },
  {
   "cell_type": "code",
   "execution_count": 8,
   "metadata": {},
   "outputs": [
    {
     "data": {
      "image/png": "[encoded data removed]",
      "text/plain": [
       "<Figure size 600x400 with 1 Axes>"
      ]
     },
     "metadata": {},
     "output_type": "display_data"
    }
   ],
   "source": [
    "# plot expert predictions\n",
    "plot_expert_pred(expert_res_list['y_obs_quant_0'], \n",
    "                 selected_obs = [1, 11, 17, 22, 35, 44])"
   ]
  },
  {
   "cell_type": "markdown",
   "metadata": {},
   "source": [
    "## Learn the prior distributions"
   ]
  },
  {
   "cell_type": "code",
   "execution_count": 7,
   "metadata": {},
   "outputs": [
    {
     "name": "stdout",
     "output_type": "stream",
     "text": [
      "epoch_time: 779.859ms\n",
      "Epoch: 0, loss: 10.33419, lr: 0.100000\n",
      "epoch_time: 162.934ms\n",
      "Epoch: 60, loss: 4.35638, lr: 0.028243\n",
      "epoch_time: 177.074ms\n",
      "Epoch: 120, loss: 2.78445, lr: 0.007977\n",
      "epoch_time: 173.199ms\n",
      "Epoch: 180, loss: 2.54671, lr: 0.002253\n",
      "epoch_time: 176.080ms\n",
      "Epoch: 240, loss: 2.54761, lr: 0.001000\n",
      "epoch_time: 166.597ms\n",
      "Epoch: 300, loss: 2.59703, lr: 0.001000\n",
      "epoch_time: 164.801ms\n",
      "Epoch: 360, loss: 2.56647, lr: 0.001000\n",
      "epoch_time: 168.565ms\n",
      "Epoch: 420, loss: 2.54719, lr: 0.001000\n",
      "epoch_time: 166.690ms\n",
      "Epoch: 480, loss: 2.57428, lr: 0.001000\n",
      "epoch_time: 176.942ms\n",
      "Epoch: 540, loss: 2.55078, lr: 0.001000\n"
     ]
    }
   ],
   "source": [
    "res_dict = trainer(expert_res_list, user_config[\"B\"], user_config[\"rep\"],\n",
    "                   parameters_dict, user_config[\"method\"], GenerativeModel,\n",
    "                   target_info, user_config, loss_balancing = True, save_vals = [\"prior_preds\"],\n",
    "                   dmatrix = dmatrix, alpha_lkj = 1., N_subj = N_subj, N_days = len(selected_days))"
   ]
  },
  {
   "cell_type": "markdown",
   "metadata": {},
   "source": [
    "## Results\n",
    "\n",
    "### Loss function"
   ]
  },
  {
   "cell_type": "code",
   "execution_count": 8,
   "metadata": {},
   "outputs": [
    {
     "data": {
      "image/png": "[encoded data removed]",
      "text/plain": [
       "<Figure size 400x300 with 1 Axes>"
      ]
     },
     "metadata": {},
     "output_type": "display_data"
    }
   ],
   "source": [
    "plot_loss(res_dict[\"loss_info\"])"
   ]
  },
  {
   "cell_type": "code",
   "execution_count": 9,
   "metadata": {},
   "outputs": [
    {
     "name": "stdout",
     "output_type": "stream",
     "text": [
      "[248.6479    28.586538]\n",
      "[7.090866 4.768178]\n",
      "[24.440716 24.136612]\n",
      "[0.0454945]\n"
     ]
    }
   ],
   "source": [
    "print(tf.gather(res_dict[\"hyperparam_info\"][0][-1], [0,2]).numpy())\n",
    "print(tf.exp(tf.gather(res_dict[\"hyperparam_info\"][0][-1], [1,3])).numpy())\n",
    "print(tf.exp(tf.gather(res_dict[\"hyperparam_info\"][0][-1], [4,5])).numpy())\n",
    "print(tf.exp(tf.gather(res_dict[\"hyperparam_info\"][0][-1], [6])).numpy())\n",
    "#tf.exp(res_dict[\"hyperparam_info\"][0][-1][1::2])"
   ]
  },
  {
   "cell_type": "code",
   "execution_count": null,
   "metadata": {},
   "outputs": [],
   "source": [
    "print(tf.gather(prior_pred_res[\"hyperparam_info\"][0][-1], [0,2]).numpy())\n",
    "print(tf.exp(tf.gather(res_dict[\"hyperparam_info\"][0][-1], [1,3])).numpy())\n",
    "print(tf.exp(tf.gather(res_dict[\"hyperparam_info\"][0][-1], [4,5])).numpy())\n",
    "print(tf.exp(tf.gather(res_dict[\"hyperparam_info\"][0][-1], [6])).numpy())"
   ]
  },
  {
   "cell_type": "code",
   "execution_count": 20,
   "metadata": {},
   "outputs": [
    {
     "name": "stdout",
     "output_type": "stream",
     "text": [
      "tf.Tensor([250.76074   29.67829   22.035734  18.028223  22.131037], shape=(5,), dtype=float32)\n",
      "tf.Tensor([248.65776   28.599953  19.810278  19.085678  22.2091  ], shape=(5,), dtype=float32)\n"
     ]
    }
   ],
   "source": [
    "print(tf.math.reduce_mean(prior_pred_res[\"priors\"], (0,1)))\n",
    "print(tf.math.reduce_mean(res_dict['priors_info'][0][\"priors\"], (0,1)))"
   ]
  },
  {
   "cell_type": "code",
   "execution_count": 11,
   "metadata": {},
   "outputs": [
    {
     "ename": "InvalidArgumentError",
     "evalue": "{{function_node __wrapped__StridedSlice_device_/job:localhost/replica:0/task:0/device:CPU:0}} slice index 3 of dimension 0 out of bounds. [Op:StridedSlice] name: strided_slice/",
     "output_type": "error",
     "traceback": [
      "\u001b[1;31m---------------------------------------------------------------------------\u001b[0m",
      "\u001b[1;31mInvalidArgumentError\u001b[0m                      Traceback (most recent call last)",
      "Cell \u001b[1;32mIn[11], line 8\u001b[0m\n\u001b[0;32m      6\u001b[0m _, axs \u001b[38;5;241m=\u001b[39m plt\u001b[38;5;241m.\u001b[39msubplots(\u001b[38;5;241m1\u001b[39m,\u001b[38;5;241m2\u001b[39m, constrained_layout \u001b[38;5;241m=\u001b[39m \u001b[38;5;28;01mTrue\u001b[39;00m, figsize \u001b[38;5;241m=\u001b[39m (\u001b[38;5;241m8\u001b[39m,\u001b[38;5;241m3\u001b[39m), sharex \u001b[38;5;241m=\u001b[39m \u001b[38;5;28;01mTrue\u001b[39;00m)\n\u001b[0;32m      7\u001b[0m [axs[\u001b[38;5;241m0\u001b[39m]\u001b[38;5;241m.\u001b[39mplot(betas[i,:], lw \u001b[38;5;241m=\u001b[39m \u001b[38;5;241m3\u001b[39m, color \u001b[38;5;241m=\u001b[39m c, label \u001b[38;5;241m=\u001b[39m \u001b[38;5;124mfr\u001b[39m\u001b[38;5;124m\"\u001b[39m\u001b[38;5;124m$\u001b[39m\u001b[38;5;124m\\\u001b[39m\u001b[38;5;124mmu_\u001b[39m\u001b[38;5;132;01m{\u001b[39;00mi\u001b[38;5;132;01m}\u001b[39;00m\u001b[38;5;124m$\u001b[39m\u001b[38;5;124m\"\u001b[39m) \u001b[38;5;28;01mfor\u001b[39;00m i,c \u001b[38;5;129;01min\u001b[39;00m \u001b[38;5;28mzip\u001b[39m(\u001b[38;5;28mrange\u001b[39m(\u001b[38;5;241m4\u001b[39m), [\u001b[38;5;124m\"\u001b[39m\u001b[38;5;124m#020024\u001b[39m\u001b[38;5;124m\"\u001b[39m, \u001b[38;5;124m\"\u001b[39m\u001b[38;5;124m#44546A\u001b[39m\u001b[38;5;124m\"\u001b[39m, \u001b[38;5;124m\"\u001b[39m\u001b[38;5;124m#00d4ff\u001b[39m\u001b[38;5;124m\"\u001b[39m, \u001b[38;5;124m\"\u001b[39m\u001b[38;5;124m#00d4ff\u001b[39m\u001b[38;5;124m\"\u001b[39m])]\n\u001b[1;32m----> 8\u001b[0m \u001b[43m[\u001b[49m\u001b[43maxs\u001b[49m\u001b[43m[\u001b[49m\u001b[38;5;241;43m1\u001b[39;49m\u001b[43m]\u001b[49m\u001b[38;5;241;43m.\u001b[39;49m\u001b[43mplot\u001b[49m\u001b[43m(\u001b[49m\u001b[43msigmas\u001b[49m\u001b[43m[\u001b[49m\u001b[43mi\u001b[49m\u001b[43m,\u001b[49m\u001b[43m:\u001b[49m\u001b[43m]\u001b[49m\u001b[43m,\u001b[49m\u001b[43m \u001b[49m\u001b[43mlw\u001b[49m\u001b[43m \u001b[49m\u001b[38;5;241;43m=\u001b[39;49m\u001b[43m \u001b[49m\u001b[38;5;241;43m3\u001b[39;49m\u001b[43m,\u001b[49m\u001b[43m \u001b[49m\u001b[43mcolor\u001b[49m\u001b[43m \u001b[49m\u001b[38;5;241;43m=\u001b[39;49m\u001b[43m \u001b[49m\u001b[43mc\u001b[49m\u001b[43m,\u001b[49m\u001b[43m \u001b[49m\u001b[43mlabel\u001b[49m\u001b[43m \u001b[49m\u001b[38;5;241;43m=\u001b[39;49m\u001b[43m \u001b[49m\u001b[38;5;124;43mfr\u001b[39;49m\u001b[38;5;124;43m\"\u001b[39;49m\u001b[38;5;124;43m$\u001b[39;49m\u001b[38;5;124;43m\\\u001b[39;49m\u001b[38;5;124;43msigma_\u001b[39;49m\u001b[38;5;132;43;01m{\u001b[39;49;00m\u001b[43mi\u001b[49m\u001b[38;5;132;43;01m}\u001b[39;49;00m\u001b[38;5;124;43m$\u001b[39;49m\u001b[38;5;124;43m\"\u001b[39;49m\u001b[43m)\u001b[49m\u001b[43m \u001b[49m\u001b[38;5;28;43;01mfor\u001b[39;49;00m\u001b[43m \u001b[49m\u001b[43mi\u001b[49m\u001b[43m,\u001b[49m\u001b[43mc\u001b[49m\u001b[43m \u001b[49m\u001b[38;5;129;43;01min\u001b[39;49;00m\u001b[43m \u001b[49m\u001b[38;5;28;43mzip\u001b[39;49m\u001b[43m(\u001b[49m\u001b[38;5;28;43mrange\u001b[39;49m\u001b[43m(\u001b[49m\u001b[38;5;241;43m4\u001b[39;49m\u001b[43m)\u001b[49m\u001b[43m,\u001b[49m\u001b[43m \u001b[49m\u001b[43m[\u001b[49m\u001b[38;5;124;43m\"\u001b[39;49m\u001b[38;5;124;43m#020024\u001b[39;49m\u001b[38;5;124;43m\"\u001b[39;49m\u001b[43m,\u001b[49m\u001b[43m \u001b[49m\u001b[38;5;124;43m\"\u001b[39;49m\u001b[38;5;124;43m#44546A\u001b[39;49m\u001b[38;5;124;43m\"\u001b[39;49m\u001b[43m,\u001b[49m\u001b[43m \u001b[49m\u001b[38;5;124;43m\"\u001b[39;49m\u001b[38;5;124;43m#00d4ff\u001b[39;49m\u001b[38;5;124;43m\"\u001b[39;49m\u001b[43m,\u001b[49m\u001b[43m \u001b[49m\u001b[38;5;124;43m\"\u001b[39;49m\u001b[38;5;124;43m#00d4ff\u001b[39;49m\u001b[38;5;124;43m\"\u001b[39;49m\u001b[43m]\u001b[49m\u001b[43m)\u001b[49m\u001b[43m]\u001b[49m\n\u001b[0;32m      9\u001b[0m [axs[i]\u001b[38;5;241m.\u001b[39mlegend(handlelength \u001b[38;5;241m=\u001b[39m \u001b[38;5;241m0.4\u001b[39m, fontsize \u001b[38;5;241m=\u001b[39m \u001b[38;5;124m\"\u001b[39m\u001b[38;5;124mmedium\u001b[39m\u001b[38;5;124m\"\u001b[39m, ncol \u001b[38;5;241m=\u001b[39m \u001b[38;5;241m2\u001b[39m, columnspacing \u001b[38;5;241m=\u001b[39m \u001b[38;5;241m0.5\u001b[39m) \u001b[38;5;28;01mfor\u001b[39;00m i \u001b[38;5;129;01min\u001b[39;00m \u001b[38;5;28mrange\u001b[39m(\u001b[38;5;241m2\u001b[39m)]\n\u001b[0;32m     10\u001b[0m axs[\u001b[38;5;241m0\u001b[39m]\u001b[38;5;241m.\u001b[39mset_title(\u001b[38;5;124mr\u001b[39m\u001b[38;5;124m\"\u001b[39m\u001b[38;5;124m$\u001b[39m\u001b[38;5;124m\\\u001b[39m\u001b[38;5;124mmu_0, \u001b[39m\u001b[38;5;124m\\\u001b[39m\u001b[38;5;124mmu_1, \u001b[39m\u001b[38;5;124m\\\u001b[39m\u001b[38;5;124mmu_2, \u001b[39m\u001b[38;5;124m\\\u001b[39m\u001b[38;5;124mmu_3$\u001b[39m\u001b[38;5;124m\"\u001b[39m,pad \u001b[38;5;241m=\u001b[39m \u001b[38;5;241m10.\u001b[39m, fontdict \u001b[38;5;241m=\u001b[39m {\u001b[38;5;124m'\u001b[39m\u001b[38;5;124mfontsize\u001b[39m\u001b[38;5;124m'\u001b[39m: \u001b[38;5;241m14\u001b[39m}, loc \u001b[38;5;241m=\u001b[39m \u001b[38;5;124m\"\u001b[39m\u001b[38;5;124mleft\u001b[39m\u001b[38;5;124m\"\u001b[39m)\n",
      "Cell \u001b[1;32mIn[11], line 8\u001b[0m, in \u001b[0;36m<listcomp>\u001b[1;34m(.0)\u001b[0m\n\u001b[0;32m      6\u001b[0m _, axs \u001b[38;5;241m=\u001b[39m plt\u001b[38;5;241m.\u001b[39msubplots(\u001b[38;5;241m1\u001b[39m,\u001b[38;5;241m2\u001b[39m, constrained_layout \u001b[38;5;241m=\u001b[39m \u001b[38;5;28;01mTrue\u001b[39;00m, figsize \u001b[38;5;241m=\u001b[39m (\u001b[38;5;241m8\u001b[39m,\u001b[38;5;241m3\u001b[39m), sharex \u001b[38;5;241m=\u001b[39m \u001b[38;5;28;01mTrue\u001b[39;00m)\n\u001b[0;32m      7\u001b[0m [axs[\u001b[38;5;241m0\u001b[39m]\u001b[38;5;241m.\u001b[39mplot(betas[i,:], lw \u001b[38;5;241m=\u001b[39m \u001b[38;5;241m3\u001b[39m, color \u001b[38;5;241m=\u001b[39m c, label \u001b[38;5;241m=\u001b[39m \u001b[38;5;124mfr\u001b[39m\u001b[38;5;124m\"\u001b[39m\u001b[38;5;124m$\u001b[39m\u001b[38;5;124m\\\u001b[39m\u001b[38;5;124mmu_\u001b[39m\u001b[38;5;132;01m{\u001b[39;00mi\u001b[38;5;132;01m}\u001b[39;00m\u001b[38;5;124m$\u001b[39m\u001b[38;5;124m\"\u001b[39m) \u001b[38;5;28;01mfor\u001b[39;00m i,c \u001b[38;5;129;01min\u001b[39;00m \u001b[38;5;28mzip\u001b[39m(\u001b[38;5;28mrange\u001b[39m(\u001b[38;5;241m4\u001b[39m), [\u001b[38;5;124m\"\u001b[39m\u001b[38;5;124m#020024\u001b[39m\u001b[38;5;124m\"\u001b[39m, \u001b[38;5;124m\"\u001b[39m\u001b[38;5;124m#44546A\u001b[39m\u001b[38;5;124m\"\u001b[39m, \u001b[38;5;124m\"\u001b[39m\u001b[38;5;124m#00d4ff\u001b[39m\u001b[38;5;124m\"\u001b[39m, \u001b[38;5;124m\"\u001b[39m\u001b[38;5;124m#00d4ff\u001b[39m\u001b[38;5;124m\"\u001b[39m])]\n\u001b[1;32m----> 8\u001b[0m [axs[\u001b[38;5;241m1\u001b[39m]\u001b[38;5;241m.\u001b[39mplot(\u001b[43msigmas\u001b[49m\u001b[43m[\u001b[49m\u001b[43mi\u001b[49m\u001b[43m,\u001b[49m\u001b[43m:\u001b[49m\u001b[43m]\u001b[49m, lw \u001b[38;5;241m=\u001b[39m \u001b[38;5;241m3\u001b[39m, color \u001b[38;5;241m=\u001b[39m c, label \u001b[38;5;241m=\u001b[39m \u001b[38;5;124mfr\u001b[39m\u001b[38;5;124m\"\u001b[39m\u001b[38;5;124m$\u001b[39m\u001b[38;5;124m\\\u001b[39m\u001b[38;5;124msigma_\u001b[39m\u001b[38;5;132;01m{\u001b[39;00mi\u001b[38;5;132;01m}\u001b[39;00m\u001b[38;5;124m$\u001b[39m\u001b[38;5;124m\"\u001b[39m) \u001b[38;5;28;01mfor\u001b[39;00m i,c \u001b[38;5;129;01min\u001b[39;00m \u001b[38;5;28mzip\u001b[39m(\u001b[38;5;28mrange\u001b[39m(\u001b[38;5;241m4\u001b[39m), [\u001b[38;5;124m\"\u001b[39m\u001b[38;5;124m#020024\u001b[39m\u001b[38;5;124m\"\u001b[39m, \u001b[38;5;124m\"\u001b[39m\u001b[38;5;124m#44546A\u001b[39m\u001b[38;5;124m\"\u001b[39m, \u001b[38;5;124m\"\u001b[39m\u001b[38;5;124m#00d4ff\u001b[39m\u001b[38;5;124m\"\u001b[39m, \u001b[38;5;124m\"\u001b[39m\u001b[38;5;124m#00d4ff\u001b[39m\u001b[38;5;124m\"\u001b[39m])]\n\u001b[0;32m      9\u001b[0m [axs[i]\u001b[38;5;241m.\u001b[39mlegend(handlelength \u001b[38;5;241m=\u001b[39m \u001b[38;5;241m0.4\u001b[39m, fontsize \u001b[38;5;241m=\u001b[39m \u001b[38;5;124m\"\u001b[39m\u001b[38;5;124mmedium\u001b[39m\u001b[38;5;124m\"\u001b[39m, ncol \u001b[38;5;241m=\u001b[39m \u001b[38;5;241m2\u001b[39m, columnspacing \u001b[38;5;241m=\u001b[39m \u001b[38;5;241m0.5\u001b[39m) \u001b[38;5;28;01mfor\u001b[39;00m i \u001b[38;5;129;01min\u001b[39;00m \u001b[38;5;28mrange\u001b[39m(\u001b[38;5;241m2\u001b[39m)]\n\u001b[0;32m     10\u001b[0m axs[\u001b[38;5;241m0\u001b[39m]\u001b[38;5;241m.\u001b[39mset_title(\u001b[38;5;124mr\u001b[39m\u001b[38;5;124m\"\u001b[39m\u001b[38;5;124m$\u001b[39m\u001b[38;5;124m\\\u001b[39m\u001b[38;5;124mmu_0, \u001b[39m\u001b[38;5;124m\\\u001b[39m\u001b[38;5;124mmu_1, \u001b[39m\u001b[38;5;124m\\\u001b[39m\u001b[38;5;124mmu_2, \u001b[39m\u001b[38;5;124m\\\u001b[39m\u001b[38;5;124mmu_3$\u001b[39m\u001b[38;5;124m\"\u001b[39m,pad \u001b[38;5;241m=\u001b[39m \u001b[38;5;241m10.\u001b[39m, fontdict \u001b[38;5;241m=\u001b[39m {\u001b[38;5;124m'\u001b[39m\u001b[38;5;124mfontsize\u001b[39m\u001b[38;5;124m'\u001b[39m: \u001b[38;5;241m14\u001b[39m}, loc \u001b[38;5;241m=\u001b[39m \u001b[38;5;124m\"\u001b[39m\u001b[38;5;124mleft\u001b[39m\u001b[38;5;124m\"\u001b[39m)\n",
      "File \u001b[1;32m~\\AppData\\Roaming\\Python\\Python311\\site-packages\\tensorflow\\python\\util\\traceback_utils.py:153\u001b[0m, in \u001b[0;36mfilter_traceback.<locals>.error_handler\u001b[1;34m(*args, **kwargs)\u001b[0m\n\u001b[0;32m    151\u001b[0m \u001b[38;5;28;01mexcept\u001b[39;00m \u001b[38;5;167;01mException\u001b[39;00m \u001b[38;5;28;01mas\u001b[39;00m e:\n\u001b[0;32m    152\u001b[0m   filtered_tb \u001b[38;5;241m=\u001b[39m _process_traceback_frames(e\u001b[38;5;241m.\u001b[39m__traceback__)\n\u001b[1;32m--> 153\u001b[0m   \u001b[38;5;28;01mraise\u001b[39;00m e\u001b[38;5;241m.\u001b[39mwith_traceback(filtered_tb) \u001b[38;5;28;01mfrom\u001b[39;00m \u001b[38;5;28;01mNone\u001b[39;00m\n\u001b[0;32m    154\u001b[0m \u001b[38;5;28;01mfinally\u001b[39;00m:\n\u001b[0;32m    155\u001b[0m   \u001b[38;5;28;01mdel\u001b[39;00m filtered_tb\n",
      "File \u001b[1;32m~\\AppData\\Roaming\\Python\\Python311\\site-packages\\tensorflow\\python\\framework\\ops.py:5880\u001b[0m, in \u001b[0;36mraise_from_not_ok_status\u001b[1;34m(e, name)\u001b[0m\n\u001b[0;32m   5878\u001b[0m \u001b[38;5;28;01mdef\u001b[39;00m \u001b[38;5;21mraise_from_not_ok_status\u001b[39m(e, name):\n\u001b[0;32m   5879\u001b[0m   e\u001b[38;5;241m.\u001b[39mmessage \u001b[38;5;241m+\u001b[39m\u001b[38;5;241m=\u001b[39m (\u001b[38;5;124m\"\u001b[39m\u001b[38;5;124m name: \u001b[39m\u001b[38;5;124m\"\u001b[39m \u001b[38;5;241m+\u001b[39m \u001b[38;5;28mstr\u001b[39m(name \u001b[38;5;28;01mif\u001b[39;00m name \u001b[38;5;129;01mis\u001b[39;00m \u001b[38;5;129;01mnot\u001b[39;00m \u001b[38;5;28;01mNone\u001b[39;00m \u001b[38;5;28;01melse\u001b[39;00m \u001b[38;5;124m\"\u001b[39m\u001b[38;5;124m\"\u001b[39m))\n\u001b[1;32m-> 5880\u001b[0m   \u001b[38;5;28;01mraise\u001b[39;00m core\u001b[38;5;241m.\u001b[39m_status_to_exception(e) \u001b[38;5;28;01mfrom\u001b[39;00m \u001b[38;5;28;01mNone\u001b[39;00m\n",
      "\u001b[1;31mInvalidArgumentError\u001b[0m: {{function_node __wrapped__StridedSlice_device_/job:localhost/replica:0/task:0/device:CPU:0}} slice index 3 of dimension 0 out of bounds. [Op:StridedSlice] name: strided_slice/"
     ]
    },
    {
     "data": {
      "image/png": "[encoded data removed]",
      "text/plain": [
       "<Figure size 800x300 with 2 Axes>"
      ]
     },
     "metadata": {},
     "output_type": "display_data"
    }
   ],
   "source": [
    "import matplotlib.pyplot as plt\n",
    "\n",
    "betas = tf.stack([res_dict[\"hyperparam_info\"][0][i][0::2] for i in range(user_config[\"epochs\"])], -1)\n",
    "sigmas =  tf.stack([tf.exp(res_dict[\"hyperparam_info\"][0][i][1::2]) for i in range(user_config[\"epochs\"])], -1)\n",
    "\n",
    "_, axs = plt.subplots(1,2, constrained_layout = True, figsize = (8,3), sharex = True)\n",
    "[axs[0].plot(betas[i,:], lw = 3, color = c, label = fr\"$\\mu_{i}$\") for i,c in zip(range(4), [\"#020024\", \"#44546A\", \"#00d4ff\", \"#00d4ff\"])]\n",
    "[axs[1].plot(sigmas[i,:], lw = 3, color = c, label = fr\"$\\sigma_{i}$\") for i,c in zip(range(4), [\"#020024\", \"#44546A\", \"#00d4ff\", \"#00d4ff\"])]\n",
    "[axs[i].legend(handlelength = 0.4, fontsize = \"medium\", ncol = 2, columnspacing = 0.5) for i in range(2)]\n",
    "axs[0].set_title(r\"$\\mu_0, \\mu_1, \\mu_2, \\mu_3$\",pad = 10., fontdict = {'fontsize': 14}, loc = \"left\")\n",
    "axs[1].set_title(r\"$\\sigma_0, \\sigma_1, \\sigma_2, \\sigma_3$\",pad = 10., fontdict = {'fontsize': 14}, loc = \"left\")\n",
    "axs[1].set_xlabel(\"epochs\")\n",
    "plt.show()"
   ]
  },
  {
   "cell_type": "markdown",
   "metadata": {},
   "source": [
    "### Final learned hyperparameter values"
   ]
  },
  {
   "cell_type": "code",
   "execution_count": 12,
   "metadata": {},
   "outputs": [
    {
     "data": {
      "text/html": [
       "<table>\n",
       "    <thead>\n",
       "        <tr>\n",
       "            <th>var_name</th>\n",
       "            <th>pred mean</th>\n",
       "            <th>pred std</th>\n",
       "            <th>true</th>\n",
       "            <th>err</th>\n",
       "        </tr>\n",
       "    </thead>\n",
       "    <tbody>\n",
       "        <tr>\n",
       "            <td>loc_0</td>\n",
       "            <td>248.658</td>\n",
       "            <td>0.002</td>\n",
       "            <td>250.4</td>\n",
       "            <td>1.742</td>\n",
       "        </tr>\n",
       "        <tr>\n",
       "            <td>scale_0</td>\n",
       "            <td>7.095</td>\n",
       "            <td>0.036</td>\n",
       "            <td>7.27</td>\n",
       "            <td>0.175</td>\n",
       "        </tr>\n",
       "        <tr>\n",
       "            <td>loc_1</td>\n",
       "            <td>28.692</td>\n",
       "            <td>0.006</td>\n",
       "            <td>30.26</td>\n",
       "            <td>1.568</td>\n",
       "        </tr>\n",
       "        <tr>\n",
       "            <td>scale_1</td>\n",
       "            <td>4.904</td>\n",
       "            <td>0.077</td>\n",
       "            <td>4.82</td>\n",
       "            <td>0.084</td>\n",
       "        </tr>\n",
       "    </tbody>\n",
       "</table>"
      ],
      "text/plain": [
       "+----------+-----------+----------+-------+-------+\n",
       "| var_name | pred mean | pred std |  true |  err  |\n",
       "+----------+-----------+----------+-------+-------+\n",
       "|  loc_0   |  248.658  |  0.002   | 250.4 | 1.742 |\n",
       "| scale_0  |   7.095   |  0.036   |  7.27 | 0.175 |\n",
       "|  loc_1   |   28.692  |  0.006   | 30.26 | 1.568 |\n",
       "| scale_1  |   4.904   |  0.077   |  4.82 | 0.084 |\n",
       "+----------+-----------+----------+-------+-------+"
      ]
     },
     "execution_count": 12,
     "metadata": {},
     "output_type": "execute_result"
    }
   ],
   "source": [
    "true_vals = [j for i in zip(true_values[\"mu\"],true_values[\"sigma\"]) for j in i]\n",
    "\n",
    "tab, avg_res = _print_restab(method = \"hyperparameter_learning\", \n",
    "                             num_vars = 4, \n",
    "                             res = res_dict[\"hyperparam_info\"], \n",
    "                             start = 5, \n",
    "                             precision = 3, \n",
    "                             true_values = true_vals)\n",
    "tab"
   ]
  },
  {
   "cell_type": "markdown",
   "metadata": {},
   "source": [
    "### Learned prior distributions"
   ]
  },
  {
   "cell_type": "code",
   "execution_count": 18,
   "metadata": {},
   "outputs": [
    {
     "data": {
      "image/png": "[encoded data removed]",
      "text/plain": [
       "<Figure size 600x300 with 1 Axes>"
      ]
     },
     "metadata": {},
     "output_type": "display_data"
    }
   ],
   "source": [
    "plot_priors(avg_res, true_vals, xrange = (-2.5, 4))"
   ]
  }
 ],
 "metadata": {
  "kernelspec": {
   "display_name": "Python 3 (ipykernel)",
   "language": "python",
   "name": "python3"
  },
  "language_info": {
   "codemirror_mode": {
    "name": "ipython",
    "version": 3
   },
   "file_extension": ".py",
   "mimetype": "text/x-python",
   "name": "python",
   "nbconvert_exporter": "python",
   "pygments_lexer": "ipython3",
   "version": "3.11.4"
  }
 },
 "nbformat": 4,
 "nbformat_minor": 4
}
