{
 "cells": [
  {
   "cell_type": "code",
   "execution_count": 1,
   "id": "8586c32f-b71b-4d65-922c-d1c1762760ec",
   "metadata": {},
   "outputs": [
    {
     "name": "stderr",
     "output_type": "stream",
     "text": [
      "C:\\Users\\flobo\\anaconda3\\envs\\make-my-prior\\Lib\\site-packages\\bayesflow\\trainers.py:27: TqdmWarning: IProgress not found. Please update jupyter and ipywidgets. See https://ipywidgets.readthedocs.io/en/stable/user_install.html\n",
      "  from tqdm.autonotebook import tqdm\n"
     ]
    }
   ],
   "source": [
    "import patsy as pa\n",
    "import tensorflow as tf\n",
    "import tensorflow_probability as tfp\n",
    "import numpy as np\n",
    "\n",
    "tfd = tfp.distributions\n",
    "\n",
    "from MakeMyPrior.elicitation_wrapper import expert_model\n",
    "from MakeMyPrior.training import trainer\n",
    "from MakeMyPrior.helper_functions import group_obs, Exponential_unconstrained, Normal_unconstrained\n",
    "from MakeMyPrior.user_config import target_config, target_input\n",
    "from MakeMyPrior.discrepancy_measures import energy_loss\n",
    "from MakeMyPrior.helper_functions import print_restab, plot_priors_hyp, plot_expert_preds, group_stats\n",
    "import MakeMyPrior.combine_losses \n",
    "\n",
    "from tabulate import tabulate\n",
    "import pprint\n",
    "pp = pprint.PrettyPrinter(depth=4)\n",
    "\n",
    "tf.random.set_seed(2024)"
   ]
  },
  {
   "cell_type": "markdown",
   "id": "a4f57eff-a3dd-47e2-98b8-658724e74d96",
   "metadata": {},
   "source": [
    "## Method: Hyperparameter Learning\n",
    "[//]: # (-.- .tabset)\n",
    "\n",
    "### Method specification\n",
    "+ PriorSamples($\\lambda = (\\mu_k, \\sigma_k, \\nu)$):\n",
    "\\begin{align*}\n",
    "\\{\\beta_k\\}_s &\\sim \\text{Normal}(\\mu_k, \\exp\\{\\sigma_k\\})\\\\\n",
    "\\{s\\}_s &\\sim \\text{Exponential}(\\nu)\n",
    "\\end{align*}\n",
    "+ Generator($\\beta_k, s$):\n",
    "\\begin{align*}\n",
    "\\{\\theta_i\\}_s &= \\{\\beta_k\\}_s \\times X_i\\\\\n",
    "\\bar{s} &= \\frac{1}{M} \\sum_{i=1}^M \\{s\\}_s\\\\\n",
    "\\{y_i\\}_s &\\sim \\text{Normal}(\\{\\theta_i\\}_s, \\bar{s})\\\\\n",
    "\\end{align*}\n",
    "+ Targets($\\{y_i\\}_s$):\n",
    "\\begin{align*}\n",
    "\\{y_\\text{rep}\\}_s &= \\{\\sum_{a \\in \\text{EnC}}y_{i\\in a}\\}_s, \\\\\n",
    "\\{y_\\text{shallow}\\}_s &= \\{\\mathbb 1_{\\text{new } \\cap \\text{ shallow}}\\}_s, \\\\\n",
    "\\{\\Delta_{eff}\\}_s &= \\{\\bar{y}_{g1}\\}_s - \\{\\bar{y}_{g2}\\}_s \\quad \\text{ for } g1 = 3,4,5 \\text{ and } g2 = 0,1,2\\\\\n",
    "\\{R^2\\}_s &= \\frac{Var(\\{\\theta_i\\}_s)}{Var(\\{y_i\\}_s)} \n",
    "\\end{align*}\n",
    "+ Elicits($\\{\\bar{y}_{g}\\}_s, \\{\\Delta_{eff}\\}_s, \\{R^2\\}_s$)\n",
    "\\begin{align*}\n",
    "\\text{Quantile-based:} \\quad &Q_p^{g} = Q_{p}^{g} \\{y_i\\}_s \\quad \\text{ for } g = 1,\\ldots, 6, p = 0.1, \\ldots, 0.9\\\\\n",
    "\\text{Quantile-based:} \\quad &Q_p^{eff} = Q_{p}^{eff} \\{\\Delta_{eff}\\}_s \\quad \\text{ for } eff = 1,2,3; p = 0.1, \\ldots, 0.9\\\\\n",
    "\\text{Histogram-based:} \\quad &\\{R^2\\}_s =\\{R^2\\}_s \n",
    "\\end{align*}\n",
    "\n",
    "### User specification\n",
    "\n",
    "#### Setting hyperparameter for the learning algorithm"
   ]
  },
  {
   "cell_type": "code",
   "execution_count": 2,
   "id": "2a80a960-e148-4b1e-a7a6-e72eb29ee250",
   "metadata": {},
   "outputs": [],
   "source": [
    "# -.-|m { input: true, output_error: false, input_fold: show }\n",
    "\n",
    "# setting of hyperparameter of learning algorithm\n",
    "user_config = dict(                    \n",
    "        B = 2**8,                          \n",
    "        rep = 300,                         \n",
    "        epochs = 300,                      \n",
    "        view_ep = 30,\n",
    "        lr_decay = True,\n",
    "        lr0 = 0.1, \n",
    "        lr_min = 0.0001, \n",
    "        loss_dimensions = \"m,n:B\",   \n",
    "        loss_discrepancy = \"energy\", \n",
    "        loss_scaling = \"unscaled\",         \n",
    "        method = \"hyperparameter_learning\"  \n",
    "        )"
   ]
  },
  {
   "cell_type": "markdown",
   "id": "401fc4ff-3f31-4d72-a1d6-9e02799cd12a",
   "metadata": {},
   "source": [
    "### Define the design matrix"
   ]
  },
  {
   "cell_type": "code",
   "execution_count": 3,
   "id": "2285d7dc-8c86-4085-9037-1da257ed6d01",
   "metadata": {},
   "outputs": [
    {
     "name": "stdout",
     "output_type": "stream",
     "text": [
      "     Intercept  a[T.a2]  b[T.b2]  b[T.b3]  a[T.a2]:b[T.b2]  a[T.a2]:b[T.b3]\n",
      "0          1.0      0.0      0.0      0.0              0.0              0.0\n",
      "1          1.0      0.0      1.0      0.0              0.0              0.0\n",
      "2          1.0      0.0      0.0      1.0              0.0              0.0\n",
      "3          1.0      1.0      0.0      0.0              0.0              0.0\n",
      "4          1.0      1.0      1.0      0.0              1.0              0.0\n",
      "..         ...      ...      ...      ...              ...              ...\n",
      "355        1.0      0.0      1.0      0.0              0.0              0.0\n",
      "356        1.0      0.0      0.0      1.0              0.0              0.0\n",
      "357        1.0      1.0      0.0      0.0              0.0              0.0\n",
      "358        1.0      1.0      1.0      0.0              1.0              0.0\n",
      "359        1.0      1.0      0.0      1.0              0.0              1.0\n",
      "\n",
      "[360 rows x 6 columns]\n"
     ]
    }
   ],
   "source": [
    "# construct design matrix\n",
    "X =  pa.dmatrix(\"a*b\", pa.balanced(a = 2, b = 3, repeat = 60), return_type=\"dataframe\")\n",
    "dmatrix = tf.cast(X, dtype = tf.float32)\n",
    "# extract contrast matrix from design matrix (for allocating observations to groups)\n",
    "cmatrix = dmatrix[0:dmatrix.shape[1], :]\n",
    "\n",
    "print(X)"
   ]
  },
  {
   "cell_type": "markdown",
   "id": "1584e487-459d-496d-a125-5252463d8b9d",
   "metadata": {},
   "source": [
    "### Setup the 'ideal agent'\n",
    "Define an 'arbitrary' ground truth for the hyperparameter values for method validation."
   ]
  },
  {
   "cell_type": "code",
   "execution_count": 4,
   "id": "a005b569-0ae7-40b8-af86-91035bd32c79",
   "metadata": {},
   "outputs": [
    {
     "name": "stdout",
     "output_type": "stream",
     "text": [
      "True hyperparameter values:\n",
      "{'mu': [0.12, 0.15, -0.02, -0.03, -0.02, -0.04],\n",
      " 'nu': 9.0,\n",
      " 'sigma': [0.02, 0.02, 0.06, 0.06, 0.03, 0.03]}\n"
     ]
    }
   ],
   "source": [
    "# true hyperparameter values for ideal_expert\n",
    "true_values = dict()\n",
    "true_values[\"mu\"] = [0.12, 0.15, -0.02, -0.03, -0.02, -0.04]\n",
    "true_values[\"sigma\"] = [0.02, 0.02, 0.06, 0.06, 0.03, 0.03]\n",
    "true_values[\"nu\"] = 9.\n",
    "\n",
    "# model parameters\n",
    "parameters_dict = dict()\n",
    "for i in range(6):\n",
    "    parameters_dict[f\"beta_{i}\"] = {\n",
    "            \"family\":  Normal_unconstrained(),\n",
    "            \"true\": tfd.Normal(true_values[\"mu\"][i], true_values[\"sigma\"][i]),\n",
    "            \"initialization\": [tfd.Normal(0.,0.1)]*2\n",
    "            }\n",
    "\n",
    "exp_dist = Exponential_unconstrained(user_config[\"rep\"])\n",
    "parameters_dict[\"sigma\"] = {\n",
    "        \"family\": exp_dist,\n",
    "        \"true\": exp_dist(tf.math.log(true_values[\"nu\"])),\n",
    "        \"initialization\": [tfd.Normal(0.,0.1)]\n",
    "        }\n",
    "\n",
    "print(\"True hyperparameter values:\")\n",
    "pp.pprint(true_values)"
   ]
  },
  {
   "cell_type": "markdown",
   "id": "7c26ede7-a2e7-42b3-aeab-a4ee34ab198c",
   "metadata": {},
   "source": [
    "### Define the data generating model"
   ]
  },
  {
   "cell_type": "code",
   "execution_count": 5,
   "id": "66d4905c-4ada-480c-9376-9b81f75cd7e2",
   "metadata": {},
   "outputs": [],
   "source": [
    "# -.-|m { input: true, output_error: false, input_fold: show }\n",
    "\n",
    "# generative model\n",
    "class GenerativeModel(tf.Module):\n",
    "    def __call__(self, \n",
    "                 parameters, # obligatory: samples from prior distributions; tf.Tensor\n",
    "                 dmatrix,    # optional: design matrix; tf.Tensor\n",
    "                 cmatrix,    # optional: contrast matrix; tf.Tensor\n",
    "                 **kwargs    # obligatory: possibility for further keyword arguments is needed \n",
    "                 ):  \n",
    "        \n",
    "        # compute linear predictor term\n",
    "        epred = parameters[:,:,0:6] @ tf.transpose(dmatrix)\n",
    "        \n",
    "        # define likelihood\n",
    "        likelihood = tfd.Normal(\n",
    "            loc = epred, \n",
    "            scale = tf.expand_dims(parameters[:,:,-1], -1))\n",
    "        \n",
    "        # sample prior predictive data\n",
    "        ypred = likelihood.sample()\n",
    "        \n",
    "        # compute custom target quantity (here: group-differences)\n",
    "        samples_grouped = group_obs(ypred, dmatrix, cmatrix)\n",
    "\n",
    "        # compute mean difference between groups\n",
    "        effect_list = []\n",
    "        diffs = [(3,0), (4,1), (5,2)]\n",
    "        for i in range(len(diffs)):\n",
    "            # compute group difference\n",
    "            diff = tf.math.subtract(\n",
    "                samples_grouped[:, :, :, diffs[i][0]],\n",
    "                samples_grouped[:, :, :, diffs[i][1]]\n",
    "            )\n",
    "            # average over individual obs within each group\n",
    "            diff_mean = tf.reduce_mean(diff, axis=2)\n",
    "            # collect all mean group differences\n",
    "            effect_list.append(diff_mean)\n",
    "\n",
    "        mean_effects = tf.stack(effect_list, axis=-1)\n",
    "\n",
    "        # compute marginals\n",
    "        ## factor repetition: new, repeated\n",
    "        marg_ReP = tf.reduce_mean(\n",
    "            tf.stack([tf.math.add_n([samples_grouped[:, :, :, i] for i in j]) for j in [range(3),range(3,6)]], \n",
    "                     axis = -1), \n",
    "            axis = 2)\n",
    "     \n",
    "        ## factor Encoding depth: deep, standard, shallow\n",
    "        marg_EnC = tf.reduce_mean(\n",
    "            tf.stack([tf.math.add_n([samples_grouped[:, :, :, i] for i in j]) for j in [[0,3],[1,4],[2,5]]], \n",
    "                     axis = -1), \n",
    "            axis = 2)\n",
    "\n",
    "        prob_y = tf.reduce_mean(samples_grouped, axis = 2)\n",
    "        \n",
    "        return dict(likelihood = likelihood,          # obligatory: likelihood; callable\n",
    "                    ypred = ypred,                    # obligatory: prior predictive data\n",
    "                    epred = epred,                    # obligatory: samples from linear predictor\n",
    "                    mean_effects = mean_effects,      # optional: custom target quantity\n",
    "                    marginal_ReP = marg_ReP,          # optional: custom target quantity\n",
    "                    marginal_EnC = marg_EnC,           # optional: custom target quantity\n",
    "                    weights = prob_y,\n",
    "                    groups = samples_grouped\n",
    "                    )"
   ]
  },
  {
   "cell_type": "markdown",
   "id": "8406db00-eff9-4494-b837-132fc5b19d10",
   "metadata": {},
   "source": [
    "### Specify the target quantities and the elicitation technique"
   ]
  },
  {
   "cell_type": "code",
   "execution_count": 6,
   "id": "bd9c7f48-5699-41e6-9aa2-6283272eab76",
   "metadata": {},
   "outputs": [
    {
     "name": "stdout",
     "output_type": "stream",
     "text": [
      "{'combine_loss': ['by-group', 'by-group', 'by-group', 'all'],\n",
      " 'custom_target_function': [None,\n",
      "                            None,\n",
      "                            None,\n",
      "                            <function custom_r2 at 0x00000217B660C400>],\n",
      " 'elicitation': ['quantiles', 'quantiles', 'quantiles', 'histogram'],\n",
      " 'internal_loss': [None, None, None, None],\n",
      " 'quantiles_specs': [(10, 20, 30, 40, 50, 60, 70, 80, 90),\n",
      "                     (10, 20, 30, 40, 50, 60, 70, 80, 90),\n",
      "                     (10, 20, 30, 40, 50, 60, 70, 80, 90)],\n",
      " 'target': ['marginal_ReP', 'marginal_EnC', 'mean_effects', 'R2']}\n"
     ]
    }
   ],
   "source": [
    " # define a custom function using the output from the generative model   \n",
    "def custom_r2(ypred, epred, **kwargs):\n",
    "    return tf.math.divide(tf.math.reduce_variance(epred, axis = -1), \n",
    "                          tf.math.reduce_variance(ypred, axis = -1))\n",
    "\n",
    "# specify target quantity, elicitation technique and loss combination\n",
    "t1 = target_config(target = \"marginal_ReP\", \n",
    "                   elicitation = \"quantiles\", \n",
    "                   combine_loss = \"by-group\", \n",
    "                   quantiles_specs = (10, 20, 30, 40, 50, 60, 70, 80, 90))\n",
    "t2 = target_config(target = \"marginal_EnC\", \n",
    "                    elicitation = \"quantiles\", \n",
    "                    combine_loss = \"by-group\", \n",
    "                    quantiles_specs = (10, 20, 30, 40, 50, 60, 70, 80, 90)) \n",
    "t3 = target_config(target = \"mean_effects\", \n",
    "                   elicitation = \"quantiles\",\n",
    "                   combine_loss = \"by-group\",\n",
    "                   quantiles_specs = (10, 20, 30, 40, 50, 60, 70, 80, 90))\n",
    "t4 = target_config(target = \"R2\", \n",
    "                   elicitation = \"histogram\",\n",
    "                   combine_loss = \"all\",\n",
    "                   custom_target_function = custom_r2)\n",
    "\n",
    "target_info = target_input(t1, t2, t3, t4)\n",
    "\n",
    "pp.pprint(target_info)"
   ]
  },
  {
   "cell_type": "markdown",
   "id": "25041b5d-9b53-4835-9cb6-75a3d408f2c2",
   "metadata": {},
   "source": [
    "## Expert model"
   ]
  },
  {
   "cell_type": "code",
   "execution_count": 10,
   "id": "458ff5f4-c03c-4f55-a0e0-34828c3c839b",
   "metadata": {
    "scrolled": true
   },
   "outputs": [
    {
     "data": {
      "text/plain": [
       "dict_keys(['marginal_ReP_quant_0', 'marginal_EnC_quant_1', 'mean_effects_quant_2', 'R2_hist_3'])"
      ]
     },
     "execution_count": 10,
     "metadata": {},
     "output_type": "execute_result"
    }
   ],
   "source": [
    "expert_res_list, prior_pred_res = expert_model(1, user_config[\"rep\"],\n",
    "                                   parameters_dict, GenerativeModel, target_info,\n",
    "                                   method = \"ideal_expert\",\n",
    "                                   dmatrix = dmatrix,\n",
    "                                   cmatrix = cmatrix,\n",
    "                                   dmatrix_fct = dmatrix)\n",
    "\n",
    "# elicited statistics from the (ideal) expert\n",
    "expert_res_list.keys()"
   ]
  },
  {
   "cell_type": "markdown",
   "id": "b997aad5-a2ad-49ec-8ba8-506288729b5f",
   "metadata": {},
   "source": [
    "### Expert predictions"
   ]
  },
  {
   "cell_type": "code",
   "execution_count": 11,
   "id": "82e0d978-7b9f-407b-87a8-5fe439a90ed0",
   "metadata": {},
   "outputs": [
    {
     "name": "stdout",
     "output_type": "stream",
     "text": [
      "+-------+------+------+\n",
      "| group | mean | std  |\n",
      "+-------+------+------+\n",
      "|  gr_0 | 0.12 | 0.02 |\n",
      "|  gr_1 | 0.1  | 0.06 |\n",
      "|  gr_2 | 0.09 | 0.06 |\n",
      "|  gr_3 | 0.27 | 0.03 |\n",
      "|  gr_4 | 0.23 | 0.07 |\n",
      "|  gr_5 | 0.2  | 0.07 |\n",
      "+-------+------+------+\n",
      "mean effects:\n",
      "[0.15 0.13 0.11]\n",
      "marginal ReP (new, repeated):\n",
      "[0.31 0.7 ]\n",
      "marginal EnC (deep, standard, shallow):\n",
      "[0.39 0.33 0.28]\n"
     ]
    }
   ],
   "source": [
    "# group means\n",
    "print(group_stats(prior_pred_res[\"ypred\"], num_groups = 6))\n",
    "# mean effects\n",
    "print(\"mean effects:\")\n",
    "print(np.round(tf.reduce_mean(prior_pred_res[\"mean_effects\"],(0,1)),2))\n",
    "# marginal distribution: Repetition\n",
    "print(\"marginal ReP (new, repeated):\")\n",
    "print(np.round(tf.reduce_mean(prior_pred_res[\"marginal_ReP\"],(0,1)),2))\n",
    "# marginal distribution: Encoding depth\n",
    "print(\"marginal EnC (deep, standard, shallow):\")\n",
    "print(np.round(tf.reduce_mean(prior_pred_res[\"marginal_EnC\"],(0,1)),2))"
   ]
  },
  {
   "cell_type": "code",
   "execution_count": 9,
   "id": "fc993fc4-2b7b-4623-b6d1-ad494575a1f4",
   "metadata": {},
   "outputs": [],
   "source": [
    "# plot expert predictions\n",
    "#plot_expert_preds(expert_res_list)"
   ]
  },
  {
   "cell_type": "markdown",
   "id": "c35108b4-4bf9-494d-a385-b8c2002db784",
   "metadata": {},
   "source": [
    "## Learning Algorithm"
   ]
  },
  {
   "cell_type": "code",
   "execution_count": 12,
   "id": "d01e0a6b-7089-4270-8824-d5d22422f393",
   "metadata": {},
   "outputs": [
    {
     "name": "stdout",
     "output_type": "stream",
     "text": [
      "epoch_time: 766.558ms\n",
      "Epoch: 0, loss: 1.46675, lr: 0.100000\n",
      "epoch_time: 177.066ms\n",
      "Epoch: 30, loss: 0.26738, lr: 0.053144\n",
      "epoch_time: 165.767ms\n",
      "Epoch: 60, loss: 0.07021, lr: 0.028243\n",
      "epoch_time: 175.198ms\n",
      "Epoch: 90, loss: 0.02391, lr: 0.015009\n",
      "epoch_time: 159.181ms\n",
      "Epoch: 120, loss: 0.07784, lr: 0.007977\n",
      "epoch_time: 171.367ms\n",
      "Epoch: 150, loss: 0.07544, lr: 0.004239\n",
      "epoch_time: 163.880ms\n",
      "Epoch: 180, loss: 0.05937, lr: 0.002253\n",
      "epoch_time: 180.418ms\n",
      "Epoch: 210, loss: 0.06969, lr: 0.001197\n",
      "epoch_time: 167.223ms\n",
      "Epoch: 240, loss: 0.05790, lr: 0.000636\n",
      "epoch_time: 187.252ms\n",
      "Epoch: 270, loss: 0.06569, lr: 0.000338\n"
     ]
    }
   ],
   "source": [
    "res_dict = trainer(expert_res_list, user_config[\"B\"], user_config[\"rep\"],\n",
    "                   parameters_dict, user_config[\"method\"], GenerativeModel,\n",
    "                   target_info, user_config, loss_balancing = True, save_vals = [\"prior_preds\"],\n",
    "                   dmatrix = dmatrix, cmatrix = cmatrix, dmatrix_fct = dmatrix)"
   ]
  },
  {
   "cell_type": "markdown",
   "id": "f8874ea6-fdae-47a8-9a34-5c1d99dd0389",
   "metadata": {},
   "source": [
    "### Training results\n",
    "\n",
    "#### Loss"
   ]
  },
  {
   "cell_type": "code",
   "execution_count": 13,
   "id": "a08ec802-9992-467f-90c9-237b65c37055",
   "metadata": {},
   "outputs": [
    {
     "data": {
      "image/png": "[encoded data removed]",
      "text/plain": [
       "<Figure size 640x480 with 1 Axes>"
      ]
     },
     "metadata": {},
     "output_type": "display_data"
    }
   ],
   "source": [
    "import matplotlib.pyplot as plt\n",
    "import numpy as np\n",
    "\n",
    "plt.plot(np.arange(len(res_dict[\"loss_info\"])), res_dict[\"loss_info\"]) \n",
    "plt.xlabel(\"epochs\")\n",
    "plt.ylabel(\"energy loss (weighted sum)\")\n",
    "plt.show()"
   ]
  },
  {
   "cell_type": "markdown",
   "id": "a156738a-5c87-4f37-8aaf-c7e248b02287",
   "metadata": {},
   "source": [
    "#### Learned hyperparameter values"
   ]
  },
  {
   "cell_type": "code",
   "execution_count": 14,
   "id": "c51d7682-5da7-4615-aeee-0957ebd141ca",
   "metadata": {},
   "outputs": [
    {
     "data": {
      "text/html": [
       "<table>\n",
       "    <thead>\n",
       "        <tr>\n",
       "            <th>var_name</th>\n",
       "            <th>pred mean</th>\n",
       "            <th>pred std</th>\n",
       "            <th>true</th>\n",
       "            <th>err</th>\n",
       "        </tr>\n",
       "    </thead>\n",
       "    <tbody>\n",
       "        <tr>\n",
       "            <td>loc_0</td>\n",
       "            <td>0.133</td>\n",
       "            <td>0.011</td>\n",
       "            <td>0.12</td>\n",
       "            <td>0.013</td>\n",
       "        </tr>\n",
       "        <tr>\n",
       "            <td>scale_0</td>\n",
       "            <td>0.032</td>\n",
       "            <td>0.0</td>\n",
       "            <td>0.02</td>\n",
       "            <td>0.012</td>\n",
       "        </tr>\n",
       "        <tr>\n",
       "            <td>loc_1</td>\n",
       "            <td>0.141</td>\n",
       "            <td>0.012</td>\n",
       "            <td>0.15</td>\n",
       "            <td>0.009</td>\n",
       "        </tr>\n",
       "        <tr>\n",
       "            <td>scale_1</td>\n",
       "            <td>0.026</td>\n",
       "            <td>0.0</td>\n",
       "            <td>0.02</td>\n",
       "            <td>0.006</td>\n",
       "        </tr>\n",
       "        <tr>\n",
       "            <td>loc_2</td>\n",
       "            <td>-0.042</td>\n",
       "            <td>0.011</td>\n",
       "            <td>-0.02</td>\n",
       "            <td>0.022</td>\n",
       "        </tr>\n",
       "        <tr>\n",
       "            <td>scale_2</td>\n",
       "            <td>0.062</td>\n",
       "            <td>0.0</td>\n",
       "            <td>0.06</td>\n",
       "            <td>0.002</td>\n",
       "        </tr>\n",
       "        <tr>\n",
       "            <td>loc_3</td>\n",
       "            <td>-0.057</td>\n",
       "            <td>0.011</td>\n",
       "            <td>-0.03</td>\n",
       "            <td>0.027</td>\n",
       "        </tr>\n",
       "        <tr>\n",
       "            <td>scale_3</td>\n",
       "            <td>0.059</td>\n",
       "            <td>0.0</td>\n",
       "            <td>0.06</td>\n",
       "            <td>0.001</td>\n",
       "        </tr>\n",
       "        <tr>\n",
       "            <td>loc_4</td>\n",
       "            <td>-0.009</td>\n",
       "            <td>0.012</td>\n",
       "            <td>-0.02</td>\n",
       "            <td>0.011</td>\n",
       "        </tr>\n",
       "        <tr>\n",
       "            <td>scale_4</td>\n",
       "            <td>0.038</td>\n",
       "            <td>0.0</td>\n",
       "            <td>0.03</td>\n",
       "            <td>0.008</td>\n",
       "        </tr>\n",
       "        <tr>\n",
       "            <td>loc_5</td>\n",
       "            <td>-0.029</td>\n",
       "            <td>0.012</td>\n",
       "            <td>-0.04</td>\n",
       "            <td>0.011</td>\n",
       "        </tr>\n",
       "        <tr>\n",
       "            <td>scale_5</td>\n",
       "            <td>0.035</td>\n",
       "            <td>0.0</td>\n",
       "            <td>0.03</td>\n",
       "            <td>0.005</td>\n",
       "        </tr>\n",
       "        <tr>\n",
       "            <td>rate_6</td>\n",
       "            <td>8.578</td>\n",
       "            <td>0.043</td>\n",
       "            <td>9.0</td>\n",
       "            <td>0.422</td>\n",
       "        </tr>\n",
       "    </tbody>\n",
       "</table>"
      ],
      "text/plain": [
       "+----------+-----------+----------+-------+-------+\n",
       "| var_name | pred mean | pred std |  true |  err  |\n",
       "+----------+-----------+----------+-------+-------+\n",
       "|  loc_0   |   0.133   |  0.011   |  0.12 | 0.013 |\n",
       "| scale_0  |   0.032   |   0.0    |  0.02 | 0.012 |\n",
       "|  loc_1   |   0.141   |  0.012   |  0.15 | 0.009 |\n",
       "| scale_1  |   0.026   |   0.0    |  0.02 | 0.006 |\n",
       "|  loc_2   |   -0.042  |  0.011   | -0.02 | 0.022 |\n",
       "| scale_2  |   0.062   |   0.0    |  0.06 | 0.002 |\n",
       "|  loc_3   |   -0.057  |  0.011   | -0.03 | 0.027 |\n",
       "| scale_3  |   0.059   |   0.0    |  0.06 | 0.001 |\n",
       "|  loc_4   |   -0.009  |  0.012   | -0.02 | 0.011 |\n",
       "| scale_4  |   0.038   |   0.0    |  0.03 | 0.008 |\n",
       "|  loc_5   |   -0.029  |  0.012   | -0.04 | 0.011 |\n",
       "| scale_5  |   0.035   |   0.0    |  0.03 | 0.005 |\n",
       "|  rate_6  |   8.578   |  0.043   |  9.0  | 0.422 |\n",
       "+----------+-----------+----------+-------+-------+"
      ]
     },
     "execution_count": 14,
     "metadata": {},
     "output_type": "execute_result"
    }
   ],
   "source": [
    "true_vals = [j for i in zip(true_values[\"mu\"],true_values[\"sigma\"]) for j in i]\n",
    "true_vals += [true_values[\"nu\"]]\n",
    "\n",
    "tab, avg_res = print_restab(method = \"hyperparameter_learning\", \n",
    "                             num_vars = 13, \n",
    "                             res = res_dict[\"hyperparam_info\"], \n",
    "                             start = 10, \n",
    "                             precision = 3, \n",
    "                             true_values = true_vals)\n",
    "tab"
   ]
  },
  {
   "cell_type": "code",
   "execution_count": 15,
   "id": "13790b02-cb42-4999-9597-55a9d03b922d",
   "metadata": {},
   "outputs": [
    {
     "data": {
      "image/png": "[encoded data removed]",
      "text/plain": [
       "<Figure size 800x400 with 8 Axes>"
      ]
     },
     "metadata": {},
     "output_type": "display_data"
    }
   ],
   "source": [
    "plot_priors_hyp(avg_res, true_values)"
   ]
  }
 ],
 "metadata": {
  "kernelspec": {
   "display_name": "Python 3 (ipykernel)",
   "language": "python",
   "name": "python3"
  },
  "language_info": {
   "codemirror_mode": {
    "name": "ipython",
    "version": 3
   },
   "file_extension": ".py",
   "mimetype": "text/x-python",
   "name": "python",
   "nbconvert_exporter": "python",
   "pygments_lexer": "ipython3",
   "version": "3.11.4"
  }
 },
 "nbformat": 4,
 "nbformat_minor": 5
}
