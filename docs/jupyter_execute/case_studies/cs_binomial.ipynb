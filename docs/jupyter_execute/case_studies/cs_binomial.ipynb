{
 "cells": [
  {
   "cell_type": "code",
   "execution_count": 1,
   "metadata": {},
   "outputs": [
    {
     "name": "stderr",
     "output_type": "stream",
     "text": [
      "C:\\Users\\flobo\\anaconda3\\envs\\make-my-prior\\Lib\\site-packages\\bayesflow\\trainers.py:27: TqdmWarning: IProgress not found. Please update jupyter and ipywidgets. See https://ipywidgets.readthedocs.io/en/stable/user_install.html\n",
      "  from tqdm.autonotebook import tqdm\n"
     ]
    }
   ],
   "source": [
    "import patsy as pa\n",
    "import tensorflow as tf\n",
    "import tensorflow_probability as tfp\n",
    "import numpy as np\n",
    "import pandas as pd\n",
    "\n",
    "tfd = tfp.distributions\n",
    "\n",
    "from PriorLearning.elicitation_wrapper import expert_model\n",
    "from PriorLearning.training import trainer\n",
    "from PriorLearning.helper_functions import group_obs, Exponential_unconstrained, Normal_unconstrained\n",
    "from PriorLearning.user_config import target_config, target_input\n",
    "from PriorLearning.helper_functions import _print_restab\n",
    "from PriorLearning._case_studies import haberman_data_predictor, plot_expert_pred, tab_expert_pred, plot_loss, plot_priors\n",
    "import PriorLearning.combine_losses \n",
    "\n",
    "from tabulate import tabulate\n",
    "import pprint\n",
    "pp = pprint.PrettyPrinter(depth=4)\n",
    "\n",
    "tf.random.set_seed(2024)"
   ]
  },
  {
   "cell_type": "markdown",
   "metadata": {},
   "source": [
    "# Binomial Regression Model\n",
    "\n",
    "## Background: Case Study\n",
    "We utilize a Binomial response distribution with a logit-link function for the probability parameter. As accompanying example, we use the Haberman’s survival dataset from the UCI machine learning repository. The dataset contains cases from a study that was\n",
    "conducted between 1958 and 1970 at the University of Chicago’s Billings Hospital on the survival of patients who had undergone surgery for breast cancer. In the following, we use the detected number of axillary lymph nodes that contain cancer (i.e., (positive) axillary nodes) as numerical predictor $X$ which consists in total of 31 observations ranging between 0 and 59 axillary nodes. The dependent variable $y$ is the number of patients who died within five years out of $T=100$ trials for each observation $i = 1, \\ldots ,N$. We consider a simple Binomial regression model with one continuous predictor.\n",
    "## Data generating model\n",
    "\\begin{align*}\n",
    "    y_i &\\sim \\text{Binomial}(T, \\theta_i)\\\\\n",
    "    \\text{logit}(\\theta_i) &= \\beta_0 + \\beta_1x_i\\\\\n",
    "    \\beta_k &\\sim \\text{Normal}(\\mu_k, \\sigma_k) \\quad \\text{for }k=0,1\\\\\n",
    "\\end{align*}\n",
    "The probability parameter $\\theta_i$ is predicted by a continuous predictor $x$ with an intercept $\\beta_0$ and slope $\\beta_1$. We assume normal priors for the regression coefficients, with mean $\\mu_k$ and standard deviation $\\sigma_k$ for $k=0,1$. Through the logit-link function, the probability $\\theta_i$ is mapped to the scale of the linear predictor. The objective is to learn the hyperparameters $\\lambda_k=(\\mu_k, \\sigma_k)$ based on expert knowledge."
   ]
  },
  {
   "cell_type": "markdown",
   "metadata": {},
   "source": [
    "## Methodology: Workflow\n",
    " \n",
    "+ General procedure:\n",
    "    + Draw samples from prior distribution(s) of model parameters \n",
    "    + Generate prior predictions according to the data generating model\n",
    "    + Compute the pre-defined target quantities\n",
    "    + Compute the elicited statistics of the target quantities\n",
    "    + Measure the discrepancy between the model-implied and the expert elicited statistics\n",
    "    + Update the weights of the transformation function of the normalizing flow  \n"
   ]
  },
  {
   "cell_type": "markdown",
   "metadata": {},
   "source": [
    "+ PriorSamples($\\lambda = (\\mu_k, \\sigma_k)$):\n",
    "\\begin{equation*}\n",
    "    \\{\\beta_k\\}_s \\sim \\text{Normal}(\\mu_k, \\exp\\{\\sigma_k\\})\\\\\n",
    "\\end{equation*}\n",
    "+ Generator($\\beta_k$):\n",
    "\\begin{align*}\n",
    "    \\{\\text{logit}(\\theta_i)\\}_s &= \\{\\beta_k\\}_s \\times X_i\\\\\n",
    "    \\{y_i\\}_s &\\sim \\text{Binomial}(T, \\{\\theta_i\\}_s)\\\\\n",
    "\\end{align*}\n",
    "+ Targets($\\{y_i\\}_s$):\n",
    "\\begin{equation*}\n",
    "    \\{y_j\\}_s = \\{y_j\\}_s \\quad \\text{ for } j = 0, 5, 10, ,\\ldots,30\\\\\n",
    "\\end{equation*}\n",
    "+ Elicits($\\{y_{j}\\}_s, \\{R^2\\}_s$)\n",
    "\\begin{equation*}\n",
    "    \\text{Quantile-based:} \\quad Q_p^{j} = Q_{p}^{j} \\{y_j\\}_s \\quad \\text{ for } j = 0, 5, 10, ,\\ldots,30, p = 0.1, \\ldots, 0.9\\\\\n",
    "\\end{equation*}\n",
    "\n",
    "## User specification\n",
    "\n",
    "### Setting hyperparameter for the learning algorithm"
   ]
  },
  {
   "cell_type": "code",
   "execution_count": 2,
   "metadata": {},
   "outputs": [
    {
     "data": {
      "text/html": [
       "<div>\n",
       "<style scoped>\n",
       "    .dataframe tbody tr th:only-of-type {\n",
       "        vertical-align: middle;\n",
       "    }\n",
       "\n",
       "    .dataframe tbody tr th {\n",
       "        vertical-align: top;\n",
       "    }\n",
       "\n",
       "    .dataframe thead th {\n",
       "        text-align: right;\n",
       "    }\n",
       "</style>\n",
       "<table border=\"1\" class=\"dataframe\">\n",
       "  <thead>\n",
       "    <tr style=\"text-align: right;\">\n",
       "      <th></th>\n",
       "      <th>0</th>\n",
       "    </tr>\n",
       "  </thead>\n",
       "  <tbody>\n",
       "    <tr>\n",
       "      <th>0</th>\n",
       "      <td>0.000000</td>\n",
       "    </tr>\n",
       "    <tr>\n",
       "      <th>1</th>\n",
       "      <td>0.407587</td>\n",
       "    </tr>\n",
       "    <tr>\n",
       "      <th>2</th>\n",
       "      <td>0.815174</td>\n",
       "    </tr>\n",
       "    <tr>\n",
       "      <th>3</th>\n",
       "      <td>1.222762</td>\n",
       "    </tr>\n",
       "    <tr>\n",
       "      <th>4</th>\n",
       "      <td>1.630349</td>\n",
       "    </tr>\n",
       "    <tr>\n",
       "      <th>5</th>\n",
       "      <td>2.037936</td>\n",
       "    </tr>\n",
       "    <tr>\n",
       "      <th>6</th>\n",
       "      <td>4.238907</td>\n",
       "    </tr>\n",
       "  </tbody>\n",
       "</table>\n",
       "</div>"
      ],
      "text/plain": [
       "          0\n",
       "0  0.000000\n",
       "1  0.407587\n",
       "2  0.815174\n",
       "3  1.222762\n",
       "4  1.630349\n",
       "5  2.037936\n",
       "6  4.238907"
      ]
     },
     "execution_count": 2,
     "metadata": {},
     "output_type": "execute_result"
    }
   ],
   "source": [
    "# setting of hyperparameter of learning algorithm\n",
    "user_config = dict(                    \n",
    "        B = 2**8,                          \n",
    "        rep = 300,                         \n",
    "        epochs = 300,                      \n",
    "        view_ep = 30,\n",
    "        lr_decay = True,\n",
    "        lr0 = 0.01, \n",
    "        lr_min = 0.0001, \n",
    "        loss_dimensions = \"m,n:B\",   \n",
    "        loss_discrepancy = \"energy\", \n",
    "        loss_scaling = \"unscaled\",         \n",
    "        method = \"hyperparameter_learning\"  \n",
    "        )\n",
    "\n",
    "# get predictor\n",
    "dmatrix = haberman_data_predictor(scaled = True, selected_obs = [0, 5, 10, 15, 20, 25, 30])\n",
    "pd.DataFrame(dmatrix)"
   ]
  },
  {
   "cell_type": "markdown",
   "metadata": {},
   "source": [
    "### Setup the 'ideal agent'\n",
    "Define an 'arbitrary' ground truth for the hyperparameter values for method validation."
   ]
  },
  {
   "cell_type": "code",
   "execution_count": 3,
   "metadata": {},
   "outputs": [
    {
     "name": "stdout",
     "output_type": "stream",
     "text": [
      "True hyperparameter values:\n"
     ]
    },
    {
     "data": {
      "text/html": [
       "<div>\n",
       "<style scoped>\n",
       "    .dataframe tbody tr th:only-of-type {\n",
       "        vertical-align: middle;\n",
       "    }\n",
       "\n",
       "    .dataframe tbody tr th {\n",
       "        vertical-align: top;\n",
       "    }\n",
       "\n",
       "    .dataframe thead th {\n",
       "        text-align: right;\n",
       "    }\n",
       "</style>\n",
       "<table border=\"1\" class=\"dataframe\">\n",
       "  <thead>\n",
       "    <tr style=\"text-align: right;\">\n",
       "      <th></th>\n",
       "      <th>mu</th>\n",
       "      <th>sigma</th>\n",
       "    </tr>\n",
       "  </thead>\n",
       "  <tbody>\n",
       "    <tr>\n",
       "      <th>0</th>\n",
       "      <td>-0.51</td>\n",
       "      <td>0.06</td>\n",
       "    </tr>\n",
       "    <tr>\n",
       "      <th>1</th>\n",
       "      <td>0.26</td>\n",
       "      <td>0.04</td>\n",
       "    </tr>\n",
       "  </tbody>\n",
       "</table>\n",
       "</div>"
      ],
      "text/plain": [
       "     mu  sigma\n",
       "0 -0.51   0.06\n",
       "1  0.26   0.04"
      ]
     },
     "execution_count": 3,
     "metadata": {},
     "output_type": "execute_result"
    }
   ],
   "source": [
    "# true hyperparameter values for ideal_expert\n",
    "true_values = dict({\n",
    "    \"mu\": [-0.51, 0.26],\n",
    "    \"sigma\": [0.06, 0.04]\n",
    "})\n",
    "\n",
    "# model parameters\n",
    "parameters_dict = dict()\n",
    "for i in range(2):\n",
    "    parameters_dict[f\"beta_{i}\"] = {\n",
    "            \"family\":  Normal_unconstrained(),\n",
    "            \"true\": tfd.Normal(true_values[\"mu\"][i], true_values[\"sigma\"][i]),\n",
    "            \"initialization\": [tfd.Uniform(0.,1.), tfd.Normal(tf.math.log(0.1), 0.001)]\n",
    "            }\n",
    "\n",
    "print(\"True hyperparameter values:\")\n",
    "pd.DataFrame(true_values)"
   ]
  },
  {
   "cell_type": "markdown",
   "metadata": {},
   "source": [
    "### Define the data generating model"
   ]
  },
  {
   "cell_type": "code",
   "execution_count": 4,
   "metadata": {},
   "outputs": [],
   "source": [
    "# generative model\n",
    "class GenerativeModel(tf.Module):\n",
    "    def __call__(self, \n",
    "                 parameters,        # obligatory: samples from prior distributions; tf.Tensor\n",
    "                 dmatrix,           # required: design matrix; tf.Tensor\n",
    "                 total_count,       # required: total count for Binomial likelihood\n",
    "                 **kwargs           # obligatory: possibility for further keyword arguments is needed \n",
    "                 ):  \n",
    "\n",
    "        # linear predictor\n",
    "        theta = tf.expand_dims(parameters[:,:,0], -1) + tf.expand_dims(parameters[:,:,1], -1)*dmatrix\n",
    "      \n",
    "        # map linear predictor to theta\n",
    "        epred = tf.sigmoid(theta)\n",
    "        \n",
    "        # define likelihood\n",
    "        likelihood = tfd.Binomial(\n",
    "            total_count = total_count, \n",
    "            probs = epred[:,:,:,None]\n",
    "        )\n",
    "        \n",
    "        return dict(likelihood = likelihood,      # obligatory: likelihood; callable\n",
    "                    ypred = None,                 # obligatory: prior predictive data\n",
    "                    epred = epred                 # obligatory: samples from linear predictor\n",
    "                    )"
   ]
  },
  {
   "cell_type": "markdown",
   "metadata": {},
   "source": [
    "### Specify the target quantities and the elicitation technique"
   ]
  },
  {
   "cell_type": "code",
   "execution_count": 5,
   "metadata": {},
   "outputs": [
    {
     "data": {
      "text/html": [
       "<div>\n",
       "<style scoped>\n",
       "    .dataframe tbody tr th:only-of-type {\n",
       "        vertical-align: middle;\n",
       "    }\n",
       "\n",
       "    .dataframe tbody tr th {\n",
       "        vertical-align: top;\n",
       "    }\n",
       "\n",
       "    .dataframe thead th {\n",
       "        text-align: right;\n",
       "    }\n",
       "</style>\n",
       "<table border=\"1\" class=\"dataframe\">\n",
       "  <thead>\n",
       "    <tr style=\"text-align: right;\">\n",
       "      <th></th>\n",
       "      <th>target</th>\n",
       "      <th>elicitation</th>\n",
       "      <th>combine_loss</th>\n",
       "      <th>custom_target_function</th>\n",
       "      <th>quantiles_specs</th>\n",
       "    </tr>\n",
       "  </thead>\n",
       "  <tbody>\n",
       "    <tr>\n",
       "      <th>0</th>\n",
       "      <td>y_obs</td>\n",
       "      <td>quantiles</td>\n",
       "      <td>by-group</td>\n",
       "      <td>None</td>\n",
       "      <td>(10, 20, 30, 40, 50, 60, 70, 80, 90)</td>\n",
       "    </tr>\n",
       "  </tbody>\n",
       "</table>\n",
       "</div>"
      ],
      "text/plain": [
       "  target elicitation combine_loss custom_target_function  \\\n",
       "0  y_obs   quantiles     by-group                   None   \n",
       "\n",
       "                        quantiles_specs  \n",
       "0  (10, 20, 30, 40, 50, 60, 70, 80, 90)  "
      ]
     },
     "execution_count": 5,
     "metadata": {},
     "output_type": "execute_result"
    }
   ],
   "source": [
    "# specify target quantity, elicitation technique and loss combination\n",
    "t1 = target_config(target=\"y_obs\", \n",
    "                   elicitation = \"quantiles\", \n",
    "                   combine_loss = \"by-group\", \n",
    "                   quantiles_specs = (10, 20, 30, 40, 50, 60, 70, 80, 90))\n",
    "\n",
    "target_info = target_input(t1)\n",
    "\n",
    "# print summary of expert input\n",
    "pd.DataFrame(target_info)"
   ]
  },
  {
   "cell_type": "markdown",
   "metadata": {},
   "source": [
    "## Simulate from the \"ideal\" expert"
   ]
  },
  {
   "cell_type": "code",
   "execution_count": 6,
   "metadata": {},
   "outputs": [
    {
     "data": {
      "text/plain": [
       "dict_keys(['y_obs_quant_0'])"
      ]
     },
     "execution_count": 6,
     "metadata": {},
     "output_type": "execute_result"
    }
   ],
   "source": [
    "expert_res_list, prior_pred_res = expert_model(1, user_config[\"rep\"],\n",
    "                                   parameters_dict, GenerativeModel, target_info,\n",
    "                                   method = \"ideal_expert\",\n",
    "                                   dmatrix = dmatrix,\n",
    "                                   total_count = 30)\n",
    "\n",
    "# elicited statistics from the (ideal) expert\n",
    "expert_res_list.keys()"
   ]
  },
  {
   "cell_type": "markdown",
   "metadata": {},
   "source": [
    "### Expert predictions"
   ]
  },
  {
   "cell_type": "code",
   "execution_count": 7,
   "metadata": {},
   "outputs": [
    {
     "data": {
      "text/html": [
       "<div>\n",
       "<style scoped>\n",
       "    .dataframe tbody tr th:only-of-type {\n",
       "        vertical-align: middle;\n",
       "    }\n",
       "\n",
       "    .dataframe tbody tr th {\n",
       "        vertical-align: top;\n",
       "    }\n",
       "\n",
       "    .dataframe thead th {\n",
       "        text-align: right;\n",
       "    }\n",
       "</style>\n",
       "<table border=\"1\" class=\"dataframe\">\n",
       "  <thead>\n",
       "    <tr style=\"text-align: right;\">\n",
       "      <th></th>\n",
       "      <th>no.axillary.nodes</th>\n",
       "      <th>no.pat.died</th>\n",
       "    </tr>\n",
       "  </thead>\n",
       "  <tbody>\n",
       "    <tr>\n",
       "      <th>0</th>\n",
       "      <td>0</td>\n",
       "      <td>11.22</td>\n",
       "    </tr>\n",
       "    <tr>\n",
       "      <th>1</th>\n",
       "      <td>5</td>\n",
       "      <td>12.02</td>\n",
       "    </tr>\n",
       "    <tr>\n",
       "      <th>2</th>\n",
       "      <td>10</td>\n",
       "      <td>12.82</td>\n",
       "    </tr>\n",
       "    <tr>\n",
       "      <th>3</th>\n",
       "      <td>15</td>\n",
       "      <td>13.58</td>\n",
       "    </tr>\n",
       "    <tr>\n",
       "      <th>4</th>\n",
       "      <td>20</td>\n",
       "      <td>14.26</td>\n",
       "    </tr>\n",
       "    <tr>\n",
       "      <th>5</th>\n",
       "      <td>25</td>\n",
       "      <td>15.05</td>\n",
       "    </tr>\n",
       "    <tr>\n",
       "      <th>6</th>\n",
       "      <td>30</td>\n",
       "      <td>19.27</td>\n",
       "    </tr>\n",
       "  </tbody>\n",
       "</table>\n",
       "</div>"
      ],
      "text/plain": [
       "   no.axillary.nodes  no.pat.died\n",
       "0                  0        11.22\n",
       "1                  5        12.02\n",
       "2                 10        12.82\n",
       "3                 15        13.58\n",
       "4                 20        14.26\n",
       "5                 25        15.05\n",
       "6                 30        19.27"
      ]
     },
     "execution_count": 7,
     "metadata": {},
     "output_type": "execute_result"
    }
   ],
   "source": [
    "# number of patients who died within five years out of 𝑇 = 100 trials\n",
    "# for 0, 5, 10, 15, 20, 25, 30 axillary nodes\n",
    "tab_expert_pred(expert_res_list['y_obs_quant_0'], selected_obs = [0, 5, 10, 15, 20, 25, 30])"
   ]
  },
  {
   "cell_type": "code",
   "execution_count": 8,
   "metadata": {},
   "outputs": [
    {
     "data": {
      "image/png": "[encoded data removed]",
      "text/plain": [
       "<Figure size 600x400 with 1 Axes>"
      ]
     },
     "metadata": {},
     "output_type": "display_data"
    }
   ],
   "source": [
    "# plot expert predictions\n",
    "plot_expert_pred(expert_res_list['y_obs_quant_0'], \n",
    "                 selected_obs = [0, 5, 10, 15, 20, 25, 30])"
   ]
  },
  {
   "cell_type": "markdown",
   "metadata": {},
   "source": [
    "## Learn the prior distributions"
   ]
  },
  {
   "cell_type": "code",
   "execution_count": 9,
   "metadata": {},
   "outputs": [
    {
     "name": "stdout",
     "output_type": "stream",
     "text": [
      "epoch_time: 1050.837ms\n",
      "Epoch: 0, loss: 3.80674, lr: 0.010000\n",
      "epoch_time: 116.713ms\n",
      "Epoch: 30, loss: 2.27207, lr: 0.005314\n",
      "epoch_time: 123.290ms\n",
      "Epoch: 60, loss: 0.92770, lr: 0.002824\n",
      "epoch_time: 127.349ms\n",
      "Epoch: 90, loss: 0.12514, lr: 0.001501\n",
      "epoch_time: 106.377ms\n",
      "Epoch: 120, loss: 0.05292, lr: 0.000798\n",
      "epoch_time: 111.060ms\n",
      "Epoch: 150, loss: 0.04985, lr: 0.000424\n",
      "epoch_time: 106.420ms\n",
      "Epoch: 180, loss: 0.04946, lr: 0.000225\n",
      "epoch_time: 121.424ms\n",
      "Epoch: 210, loss: 0.04953, lr: 0.000120\n",
      "epoch_time: 106.392ms\n",
      "Epoch: 240, loss: 0.05035, lr: 0.000100\n",
      "epoch_time: 131.797ms\n",
      "Epoch: 270, loss: 0.04950, lr: 0.000100\n"
     ]
    }
   ],
   "source": [
    "res_dict = trainer(expert_res_list, user_config[\"B\"], user_config[\"rep\"],\n",
    "                   parameters_dict, user_config[\"method\"], GenerativeModel,\n",
    "                   target_info, user_config, loss_balancing = True, save_vals = [\"prior_preds\"],\n",
    "                   dmatrix = dmatrix, total_count = 30)"
   ]
  },
  {
   "cell_type": "markdown",
   "metadata": {},
   "source": [
    "## Results\n",
    "\n",
    "### Loss function"
   ]
  },
  {
   "cell_type": "code",
   "execution_count": 10,
   "metadata": {},
   "outputs": [
    {
     "data": {
      "image/png": "[encoded data removed]",
      "text/plain": [
       "<Figure size 400x300 with 1 Axes>"
      ]
     },
     "metadata": {},
     "output_type": "display_data"
    }
   ],
   "source": [
    "plot_loss(res_dict[\"loss_info\"])"
   ]
  },
  {
   "cell_type": "markdown",
   "metadata": {},
   "source": [
    "### Final learned hyperparameter values"
   ]
  },
  {
   "cell_type": "code",
   "execution_count": 12,
   "metadata": {},
   "outputs": [
    {
     "data": {
      "text/html": [
       "<table>\n",
       "    <thead>\n",
       "        <tr>\n",
       "            <th>var_name</th>\n",
       "            <th>pred mean</th>\n",
       "            <th>pred std</th>\n",
       "            <th>true</th>\n",
       "            <th>err</th>\n",
       "        </tr>\n",
       "    </thead>\n",
       "    <tbody>\n",
       "        <tr>\n",
       "            <td>loc_0</td>\n",
       "            <td>-0.516</td>\n",
       "            <td>0.0</td>\n",
       "            <td>-0.51</td>\n",
       "            <td>0.006</td>\n",
       "        </tr>\n",
       "        <tr>\n",
       "            <td>scale_0</td>\n",
       "            <td>0.069</td>\n",
       "            <td>0.0</td>\n",
       "            <td>0.06</td>\n",
       "            <td>0.009</td>\n",
       "        </tr>\n",
       "        <tr>\n",
       "            <td>loc_1</td>\n",
       "            <td>0.261</td>\n",
       "            <td>0.0</td>\n",
       "            <td>0.26</td>\n",
       "            <td>0.001</td>\n",
       "        </tr>\n",
       "        <tr>\n",
       "            <td>scale_1</td>\n",
       "            <td>0.035</td>\n",
       "            <td>0.0</td>\n",
       "            <td>0.04</td>\n",
       "            <td>0.005</td>\n",
       "        </tr>\n",
       "    </tbody>\n",
       "</table>"
      ],
      "text/plain": [
       "+----------+-----------+----------+-------+-------+\n",
       "| var_name | pred mean | pred std |  true |  err  |\n",
       "+----------+-----------+----------+-------+-------+\n",
       "|  loc_0   |   -0.516  |   0.0    | -0.51 | 0.006 |\n",
       "| scale_0  |   0.069   |   0.0    |  0.06 | 0.009 |\n",
       "|  loc_1   |   0.261   |   0.0    |  0.26 | 0.001 |\n",
       "| scale_1  |   0.035   |   0.0    |  0.04 | 0.005 |\n",
       "+----------+-----------+----------+-------+-------+"
      ]
     },
     "execution_count": 12,
     "metadata": {},
     "output_type": "execute_result"
    }
   ],
   "source": [
    "true_vals = [j for i in zip(true_values[\"mu\"],true_values[\"sigma\"]) for j in i]\n",
    "\n",
    "tab, avg_res = _print_restab(method = \"hyperparameter_learning\", \n",
    "                             num_vars = 4, \n",
    "                             res = res_dict[\"hyperparam_info\"], \n",
    "                             start = 5, \n",
    "                             precision = 3, \n",
    "                             true_values = true_vals)\n",
    "tab"
   ]
  },
  {
   "cell_type": "markdown",
   "metadata": {},
   "source": [
    "### Learned prior distributions"
   ]
  },
  {
   "cell_type": "code",
   "execution_count": 13,
   "metadata": {},
   "outputs": [
    {
     "data": {
      "image/png": "[encoded data removed]",
      "text/plain": [
       "<Figure size 600x300 with 1 Axes>"
      ]
     },
     "metadata": {},
     "output_type": "display_data"
    }
   ],
   "source": [
    "plot_priors(avg_res, true_vals, xrange = (-0.8,0.5))"
   ]
  }
 ],
 "metadata": {
  "kernelspec": {
   "display_name": "Python 3 (ipykernel)",
   "language": "python",
   "name": "python3"
  },
  "language_info": {
   "codemirror_mode": {
    "name": "ipython",
    "version": 3
   },
   "file_extension": ".py",
   "mimetype": "text/x-python",
   "name": "python",
   "nbconvert_exporter": "python",
   "pygments_lexer": "ipython3",
   "version": "3.11.4"
  }
 },
 "nbformat": 4,
 "nbformat_minor": 4
}